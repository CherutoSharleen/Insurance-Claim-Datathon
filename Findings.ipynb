{
 "cells": [
  {
   "cell_type": "markdown",
   "metadata": {},
   "source": [
    "Date Manipulation.\n",
    "- There are [2010, 2007, 2009, 2006, 2001, 2005, 2003, 2002] unique years<br>\n",
    "End Date Years<br>\n",
    "[2011, 2010, 2012, 2041, 2037, 2016, 2034]<br>\n",
    "- Dates did not have missing values\n",
    "- Find weekends\n",
    "\n",
    "2. Add a New Column for Duration"
   ]
  },
  {
   "cell_type": "code",
   "execution_count": null,
   "metadata": {},
   "outputs": [],
   "source": [
    "start_year = all_data[\"Policy Start Dateyear\"]\n",
    "start_year.unique()"
   ]
  },
  {
   "cell_type": "markdown",
   "metadata": {},
   "source": [
    "<b>Imputation Of Categorical Variables</b></br>\n",
    "Base F1 score on the X_test is: 0.19354838709677422</br>\n",
    "Adding an extra Uknown Column made the F1 Score: 0.17500000000000002"
   ]
  }
 ],
 "metadata": {
  "kernelspec": {
   "display_name": "Python 3.10.7 64-bit",
   "language": "python",
   "name": "python3"
  },
  "language_info": {
   "name": "python",
   "version": "3.10.7"
  },
  "orig_nbformat": 4,
  "vscode": {
   "interpreter": {
    "hash": "a42ccb73e7d9bfdf27e036f1d2b8b681e55fc0743cc5586bc2474d4a60f4b886"
   }
  }
 },
 "nbformat": 4,
 "nbformat_minor": 2
}
