{
  "cells": [
    {
      "cell_type": "markdown",
      "metadata": {
        "id": "48S6RVt_jXwp"
      },
      "source": [
        "# AutoInland Vehicle Insurance Claim Challenge StarterNotebook - Python\n",
        "\n",
        "This is a simple starter notebook to get started with the AutoInland Vehicle Insurance Claim Challenge on Zindi.\n",
        "\n",
        "This notebook covers:\n",
        "- Loading the data\n",
        "- Simple EDA and an example of feature enginnering\n",
        "- Data preprocessing and data wrangling\n",
        "- Creating a simple model\n",
        "- Making a submission\n",
        "- Some tips for improving your score"
      ]
    },
    {
      "cell_type": "markdown",
      "metadata": {
        "id": "HdPjBTFdkI7t"
      },
      "source": [
        "### Importing libraries"
      ]
    },
    {
      "cell_type": "code",
      "execution_count": 1,
      "metadata": {
        "id": "8IWFJK2h22yc"
      },
      "outputs": [],
      "source": [
        "import pandas as pd\n",
        "import numpy as np\n",
        "import datetime as dt\n",
        "from tqdm.notebook import tqdm_notebook\n",
        "import seaborn as sns\n",
        "import matplotlib.pyplot as plt\n",
        "from sklearn.metrics import f1_score\n",
        "from lightgbm import LGBMClassifier\n",
        "from sklearn.model_selection import train_test_split\n",
        "import warnings\n",
        "warnings.filterwarnings('ignore')"
      ]
    },
    {
      "cell_type": "markdown",
      "metadata": {
        "id": "9SyQadB9iY8R"
      },
      "source": [
        "### Read files"
      ]
    },
    {
      "cell_type": "code",
      "execution_count": 2,
      "metadata": {
        "id": "MQCvC_XjDzyH"
      },
      "outputs": [],
      "source": [
        "# Load files into a pandas dataframe\n",
        "train = pd.read_csv('Train.csv')\n",
        "test = pd.read_csv('Test.csv')\n",
        "ss = pd.read_csv('SampleSubmission.csv')"
      ]
    },
    {
      "cell_type": "markdown",
      "metadata": {
        "id": "MCP0H7tSicUU"
      },
      "source": [
        "### Some basic EDA"
      ]
    },
    {
      "cell_type": "code",
      "execution_count": 3,
      "metadata": {
        "colab": {
          "base_uri": "https://localhost:8080/",
          "height": 195
        },
        "id": "Mcqp5mXG22ye",
        "outputId": "a9326a6d-9ea2-4c91-d038-534cc1e4c64f"
      },
      "outputs": [
        {
          "data": {
            "text/html": [
              "<div>\n",
              "<style scoped>\n",
              "    .dataframe tbody tr th:only-of-type {\n",
              "        vertical-align: middle;\n",
              "    }\n",
              "\n",
              "    .dataframe tbody tr th {\n",
              "        vertical-align: top;\n",
              "    }\n",
              "\n",
              "    .dataframe thead th {\n",
              "        text-align: right;\n",
              "    }\n",
              "</style>\n",
              "<table border=\"1\" class=\"dataframe\">\n",
              "  <thead>\n",
              "    <tr style=\"text-align: right;\">\n",
              "      <th></th>\n",
              "      <th>ID</th>\n",
              "      <th>Policy Start Date</th>\n",
              "      <th>Policy End Date</th>\n",
              "      <th>Gender</th>\n",
              "      <th>Age</th>\n",
              "      <th>First Transaction Date</th>\n",
              "      <th>No_Pol</th>\n",
              "      <th>Car_Category</th>\n",
              "      <th>Subject_Car_Colour</th>\n",
              "      <th>Subject_Car_Make</th>\n",
              "      <th>LGA_Name</th>\n",
              "      <th>State</th>\n",
              "      <th>ProductName</th>\n",
              "      <th>target</th>\n",
              "    </tr>\n",
              "  </thead>\n",
              "  <tbody>\n",
              "    <tr>\n",
              "      <th>0</th>\n",
              "      <td>ID_0040R73</td>\n",
              "      <td>2010-05-14</td>\n",
              "      <td>2011-05-13</td>\n",
              "      <td>Male</td>\n",
              "      <td>30</td>\n",
              "      <td>2010-05-14</td>\n",
              "      <td>1</td>\n",
              "      <td>Saloon</td>\n",
              "      <td>Black</td>\n",
              "      <td>TOYOTA</td>\n",
              "      <td>NaN</td>\n",
              "      <td>NaN</td>\n",
              "      <td>Car Classic</td>\n",
              "      <td>0</td>\n",
              "    </tr>\n",
              "    <tr>\n",
              "      <th>1</th>\n",
              "      <td>ID_0046BNK</td>\n",
              "      <td>2010-11-29</td>\n",
              "      <td>2011-11-28</td>\n",
              "      <td>Female</td>\n",
              "      <td>79</td>\n",
              "      <td>2010-11-29</td>\n",
              "      <td>1</td>\n",
              "      <td>JEEP</td>\n",
              "      <td>Grey</td>\n",
              "      <td>TOYOTA</td>\n",
              "      <td>NaN</td>\n",
              "      <td>NaN</td>\n",
              "      <td>Car Classic</td>\n",
              "      <td>1</td>\n",
              "    </tr>\n",
              "    <tr>\n",
              "      <th>2</th>\n",
              "      <td>ID_005QMC3</td>\n",
              "      <td>2010-03-21</td>\n",
              "      <td>2011-03-20</td>\n",
              "      <td>Male</td>\n",
              "      <td>43</td>\n",
              "      <td>2010-03-21</td>\n",
              "      <td>1</td>\n",
              "      <td>Saloon</td>\n",
              "      <td>Red</td>\n",
              "      <td>TOYOTA</td>\n",
              "      <td>NaN</td>\n",
              "      <td>NaN</td>\n",
              "      <td>Car Classic</td>\n",
              "      <td>0</td>\n",
              "    </tr>\n",
              "    <tr>\n",
              "      <th>3</th>\n",
              "      <td>ID_0079OHW</td>\n",
              "      <td>2010-08-21</td>\n",
              "      <td>2011-08-20</td>\n",
              "      <td>Male</td>\n",
              "      <td>2</td>\n",
              "      <td>2010-08-21</td>\n",
              "      <td>1</td>\n",
              "      <td>NaN</td>\n",
              "      <td>NaN</td>\n",
              "      <td>NaN</td>\n",
              "      <td>NaN</td>\n",
              "      <td>NaN</td>\n",
              "      <td>CarSafe</td>\n",
              "      <td>0</td>\n",
              "    </tr>\n",
              "    <tr>\n",
              "      <th>4</th>\n",
              "      <td>ID_00BRP63</td>\n",
              "      <td>2010-08-29</td>\n",
              "      <td>2010-12-31</td>\n",
              "      <td>Entity</td>\n",
              "      <td>20</td>\n",
              "      <td>2010-08-29</td>\n",
              "      <td>3</td>\n",
              "      <td>NaN</td>\n",
              "      <td>NaN</td>\n",
              "      <td>NaN</td>\n",
              "      <td>Lagos</td>\n",
              "      <td>Lagos</td>\n",
              "      <td>Muuve</td>\n",
              "      <td>1</td>\n",
              "    </tr>\n",
              "  </tbody>\n",
              "</table>\n",
              "</div>"
            ],
            "text/plain": [
              "           ID Policy Start Date Policy End Date  Gender  Age  \\\n",
              "0  ID_0040R73        2010-05-14      2011-05-13    Male   30   \n",
              "1  ID_0046BNK        2010-11-29      2011-11-28  Female   79   \n",
              "2  ID_005QMC3        2010-03-21      2011-03-20    Male   43   \n",
              "3  ID_0079OHW        2010-08-21      2011-08-20    Male    2   \n",
              "4  ID_00BRP63        2010-08-29      2010-12-31  Entity   20   \n",
              "\n",
              "  First Transaction Date  No_Pol Car_Category Subject_Car_Colour  \\\n",
              "0             2010-05-14       1       Saloon              Black   \n",
              "1             2010-11-29       1         JEEP               Grey   \n",
              "2             2010-03-21       1       Saloon                Red   \n",
              "3             2010-08-21       1          NaN                NaN   \n",
              "4             2010-08-29       3          NaN                NaN   \n",
              "\n",
              "  Subject_Car_Make LGA_Name  State  ProductName  target  \n",
              "0           TOYOTA      NaN    NaN  Car Classic       0  \n",
              "1           TOYOTA      NaN    NaN  Car Classic       1  \n",
              "2           TOYOTA      NaN    NaN  Car Classic       0  \n",
              "3              NaN      NaN    NaN      CarSafe       0  \n",
              "4              NaN    Lagos  Lagos        Muuve       1  "
            ]
          },
          "execution_count": 3,
          "metadata": {},
          "output_type": "execute_result"
        }
      ],
      "source": [
        "# Preview the first five rows of the train set\n",
        "train.head()"
      ]
    },
    {
      "cell_type": "code",
      "execution_count": 4,
      "metadata": {
        "colab": {
          "base_uri": "https://localhost:8080/",
          "height": 279
        },
        "id": "XADqPrMo22yf",
        "outputId": "b389a03e-c9d5-40a5-886b-7317689c5eb8"
      },
      "outputs": [
        {
          "data": {
            "text/html": [
              "<div>\n",
              "<style scoped>\n",
              "    .dataframe tbody tr th:only-of-type {\n",
              "        vertical-align: middle;\n",
              "    }\n",
              "\n",
              "    .dataframe tbody tr th {\n",
              "        vertical-align: top;\n",
              "    }\n",
              "\n",
              "    .dataframe thead th {\n",
              "        text-align: right;\n",
              "    }\n",
              "</style>\n",
              "<table border=\"1\" class=\"dataframe\">\n",
              "  <thead>\n",
              "    <tr style=\"text-align: right;\">\n",
              "      <th></th>\n",
              "      <th>ID</th>\n",
              "      <th>Policy Start Date</th>\n",
              "      <th>Policy End Date</th>\n",
              "      <th>Gender</th>\n",
              "      <th>Age</th>\n",
              "      <th>First Transaction Date</th>\n",
              "      <th>No_Pol</th>\n",
              "      <th>Car_Category</th>\n",
              "      <th>Subject_Car_Colour</th>\n",
              "      <th>Subject_Car_Make</th>\n",
              "      <th>LGA_Name</th>\n",
              "      <th>State</th>\n",
              "      <th>ProductName</th>\n",
              "    </tr>\n",
              "  </thead>\n",
              "  <tbody>\n",
              "    <tr>\n",
              "      <th>0</th>\n",
              "      <td>ID_01QM0NU</td>\n",
              "      <td>2010-10-23</td>\n",
              "      <td>2011-10-22</td>\n",
              "      <td>Female</td>\n",
              "      <td>46</td>\n",
              "      <td>2010-10-23</td>\n",
              "      <td>1</td>\n",
              "      <td>NaN</td>\n",
              "      <td>NaN</td>\n",
              "      <td>Ford</td>\n",
              "      <td>Abuja Municipal</td>\n",
              "      <td>Abuja-Municipal</td>\n",
              "      <td>Car Classic</td>\n",
              "    </tr>\n",
              "    <tr>\n",
              "      <th>1</th>\n",
              "      <td>ID_024NJLZ</td>\n",
              "      <td>2010-10-14</td>\n",
              "      <td>2011-10-13</td>\n",
              "      <td>Male</td>\n",
              "      <td>32</td>\n",
              "      <td>2010-10-14</td>\n",
              "      <td>1</td>\n",
              "      <td>NaN</td>\n",
              "      <td>NaN</td>\n",
              "      <td>NaN</td>\n",
              "      <td>Kosofe</td>\n",
              "      <td>Benue</td>\n",
              "      <td>Car Classic</td>\n",
              "    </tr>\n",
              "    <tr>\n",
              "      <th>2</th>\n",
              "      <td>ID_02NOVWQ</td>\n",
              "      <td>2010-08-29</td>\n",
              "      <td>2011-08-28</td>\n",
              "      <td>Female</td>\n",
              "      <td>45</td>\n",
              "      <td>2010-08-29</td>\n",
              "      <td>2</td>\n",
              "      <td>Saloon</td>\n",
              "      <td>Black</td>\n",
              "      <td>Honda</td>\n",
              "      <td>Wuse 11</td>\n",
              "      <td>Abuja</td>\n",
              "      <td>Car Classic</td>\n",
              "    </tr>\n",
              "    <tr>\n",
              "      <th>3</th>\n",
              "      <td>ID_02VSP68</td>\n",
              "      <td>2010-06-13</td>\n",
              "      <td>2011-06-12</td>\n",
              "      <td>Female</td>\n",
              "      <td>58</td>\n",
              "      <td>2010-06-13</td>\n",
              "      <td>1</td>\n",
              "      <td>Saloon</td>\n",
              "      <td>NaN</td>\n",
              "      <td>TOYOTA</td>\n",
              "      <td>NaN</td>\n",
              "      <td>NaN</td>\n",
              "      <td>CarSafe</td>\n",
              "    </tr>\n",
              "    <tr>\n",
              "      <th>4</th>\n",
              "      <td>ID_02YB37K</td>\n",
              "      <td>2010-07-01</td>\n",
              "      <td>2011-06-30</td>\n",
              "      <td>NaN</td>\n",
              "      <td>120</td>\n",
              "      <td>2010-07-01</td>\n",
              "      <td>1</td>\n",
              "      <td>Saloon</td>\n",
              "      <td>Red</td>\n",
              "      <td>Hyundai</td>\n",
              "      <td>Victoria Island</td>\n",
              "      <td>Lagos</td>\n",
              "      <td>Car Classic</td>\n",
              "    </tr>\n",
              "  </tbody>\n",
              "</table>\n",
              "</div>"
            ],
            "text/plain": [
              "           ID Policy Start Date Policy End Date  Gender  Age  \\\n",
              "0  ID_01QM0NU        2010-10-23      2011-10-22  Female   46   \n",
              "1  ID_024NJLZ        2010-10-14      2011-10-13    Male   32   \n",
              "2  ID_02NOVWQ        2010-08-29      2011-08-28  Female   45   \n",
              "3  ID_02VSP68        2010-06-13      2011-06-12  Female   58   \n",
              "4  ID_02YB37K        2010-07-01      2011-06-30     NaN  120   \n",
              "\n",
              "  First Transaction Date  No_Pol Car_Category Subject_Car_Colour  \\\n",
              "0             2010-10-23       1          NaN                NaN   \n",
              "1             2010-10-14       1          NaN                NaN   \n",
              "2             2010-08-29       2       Saloon              Black   \n",
              "3             2010-06-13       1       Saloon                NaN   \n",
              "4             2010-07-01       1       Saloon                Red   \n",
              "\n",
              "  Subject_Car_Make         LGA_Name            State  ProductName  \n",
              "0             Ford  Abuja Municipal  Abuja-Municipal  Car Classic  \n",
              "1              NaN           Kosofe            Benue  Car Classic  \n",
              "2            Honda          Wuse 11            Abuja  Car Classic  \n",
              "3           TOYOTA              NaN              NaN      CarSafe  \n",
              "4          Hyundai  Victoria Island            Lagos  Car Classic  "
            ]
          },
          "execution_count": 4,
          "metadata": {},
          "output_type": "execute_result"
        }
      ],
      "source": [
        "# Preview the first five rows of the test set\n",
        "test.head()"
      ]
    },
    {
      "cell_type": "code",
      "execution_count": 5,
      "metadata": {
        "colab": {
          "base_uri": "https://localhost:8080/",
          "height": 195
        },
        "id": "iwZ0JOrk22yg",
        "outputId": "7a878636-f3d2-4a1a-cd74-f8623474ceb0"
      },
      "outputs": [
        {
          "data": {
            "text/html": [
              "<div>\n",
              "<style scoped>\n",
              "    .dataframe tbody tr th:only-of-type {\n",
              "        vertical-align: middle;\n",
              "    }\n",
              "\n",
              "    .dataframe tbody tr th {\n",
              "        vertical-align: top;\n",
              "    }\n",
              "\n",
              "    .dataframe thead th {\n",
              "        text-align: right;\n",
              "    }\n",
              "</style>\n",
              "<table border=\"1\" class=\"dataframe\">\n",
              "  <thead>\n",
              "    <tr style=\"text-align: right;\">\n",
              "      <th></th>\n",
              "      <th>ID</th>\n",
              "      <th>target</th>\n",
              "    </tr>\n",
              "  </thead>\n",
              "  <tbody>\n",
              "    <tr>\n",
              "      <th>0</th>\n",
              "      <td>ID_01QM0NU</td>\n",
              "      <td>0</td>\n",
              "    </tr>\n",
              "    <tr>\n",
              "      <th>1</th>\n",
              "      <td>ID_024NJLZ</td>\n",
              "      <td>0</td>\n",
              "    </tr>\n",
              "    <tr>\n",
              "      <th>2</th>\n",
              "      <td>ID_02NOVWQ</td>\n",
              "      <td>0</td>\n",
              "    </tr>\n",
              "    <tr>\n",
              "      <th>3</th>\n",
              "      <td>ID_02VSP68</td>\n",
              "      <td>0</td>\n",
              "    </tr>\n",
              "    <tr>\n",
              "      <th>4</th>\n",
              "      <td>ID_02YB37K</td>\n",
              "      <td>0</td>\n",
              "    </tr>\n",
              "  </tbody>\n",
              "</table>\n",
              "</div>"
            ],
            "text/plain": [
              "           ID  target\n",
              "0  ID_01QM0NU       0\n",
              "1  ID_024NJLZ       0\n",
              "2  ID_02NOVWQ       0\n",
              "3  ID_02VSP68       0\n",
              "4  ID_02YB37K       0"
            ]
          },
          "execution_count": 5,
          "metadata": {},
          "output_type": "execute_result"
        }
      ],
      "source": [
        "# Preview the first five rows of the sample submission file\n",
        "ss.head()"
      ]
    },
    {
      "cell_type": "code",
      "execution_count": 6,
      "metadata": {
        "colab": {
          "base_uri": "https://localhost:8080/"
        },
        "id": "PpiShcfRIM58",
        "outputId": "a88f8506-d00c-4ba2-d8e5-055630d22a9a"
      },
      "outputs": [
        {
          "name": "stdout",
          "output_type": "stream",
          "text": [
            "The shape of the train set is: (12079, 14)\n",
            "The shape of the test set is: (1202, 13)\n"
          ]
        }
      ],
      "source": [
        "# Check the shape of the train and test sets\n",
        "print(f'The shape of the train set is: {train.shape}\\nThe shape of the test set is: {test.shape}')"
      ]
    },
    {
      "cell_type": "code",
      "execution_count": 7,
      "metadata": {
        "colab": {
          "base_uri": "https://localhost:8080/",
          "height": 446
        },
        "id": "PXnqoSeVJT1w",
        "outputId": "2e408179-ff08-4286-db45-9353556faf50"
      },
      "outputs": [
        {
          "data": {
            "image/png": "[encoded data removed]",
            "text/plain": [
              "<Figure size 1000x700 with 1 Axes>"
            ]
          },
          "metadata": {},
          "output_type": "display_data"
        }
      ],
      "source": [
        "# Check if there any missing values in train set\n",
        "ax = train.isna().sum().sort_values().plot(kind = 'barh', figsize = (10, 7))\n",
        "plt.title('Percentage of Missing Values Per Column in Train Set', fontdict={'size':15})\n",
        "for p in ax.patches:\n",
        "    percentage ='{:,.0f}%'.format((p.get_width()/train.shape[0])*100)\n",
        "    width, height =p.get_width(),p.get_height()\n",
        "    x=p.get_x()+width+0.02\n",
        "    y=p.get_y()+height/2\n",
        "    ax.annotate(percentage,(x,y))"
      ]
    },
    {
      "cell_type": "code",
      "execution_count": 8,
      "metadata": {
        "colab": {
          "base_uri": "https://localhost:8080/",
          "height": 446
        },
        "id": "JvZQN_KMMhyH",
        "outputId": "b3e52142-44ed-4496-b5ef-21c58923f0b2"
      },
      "outputs": [
        {
          "data": {
            "image/png": "[encoded data removed]",
            "text/plain": [
              "<Figure size 1000x700 with 1 Axes>"
            ]
          },
          "metadata": {},
          "output_type": "display_data"
        }
      ],
      "source": [
        "# Check if there missing values in test set\n",
        "ax = test.isna().sum().sort_values().plot(kind = 'barh', figsize = (10, 7))\n",
        "plt.title('Percentage of Missing Values Per Column in Test Set', fontdict={'size':15})\n",
        "\n",
        "for p in ax.patches:\n",
        "    percentage ='{:,.1f}%'.format((p.get_width()/test.shape[0])*100)\n",
        "    width, height =p.get_width(),p.get_height()\n",
        "    x=p.get_x()+width+0.02\n",
        "    y=p.get_y()+height/2\n",
        "    ax.annotate(percentage,(x,y))"
      ]
    },
    {
      "cell_type": "markdown",
      "metadata": {
        "id": "oo9bQICy22yi"
      },
      "source": [
        "## Combine train and test set for easy preprocessing "
      ]
    },
    {
      "cell_type": "code",
      "execution_count": 9,
      "metadata": {
        "colab": {
          "base_uri": "https://localhost:8080/"
        },
        "id": "LMBnOTvv22yi",
        "outputId": "aa3732b6-e781-409d-b36a-23a5f7d801e6"
      },
      "outputs": [
        {
          "name": "stdout",
          "output_type": "stream",
          "text": [
            "The shape of the combined dataframe is: (13281, 14)\n"
          ]
        }
      ],
      "source": [
        "# Combine train and test set\n",
        "ntrain = train.shape[0] # to be used to split train and test set from the combined dataframe\n",
        "\n",
        "all_data = pd.concat((train, test)).reset_index(drop=True)\n",
        "print(f'The shape of the combined dataframe is: {all_data.shape}')"
      ]
    },
    {
      "cell_type": "code",
      "execution_count": 10,
      "metadata": {
        "colab": {
          "base_uri": "https://localhost:8080/",
          "height": 229
        },
        "id": "Enhuekp922yj",
        "outputId": "cbd3c921-fcc3-42f6-de2e-6cf9cc0b02b2"
      },
      "outputs": [
        {
          "data": {
            "text/html": [
              "<div>\n",
              "<style scoped>\n",
              "    .dataframe tbody tr th:only-of-type {\n",
              "        vertical-align: middle;\n",
              "    }\n",
              "\n",
              "    .dataframe tbody tr th {\n",
              "        vertical-align: top;\n",
              "    }\n",
              "\n",
              "    .dataframe thead th {\n",
              "        text-align: right;\n",
              "    }\n",
              "</style>\n",
              "<table border=\"1\" class=\"dataframe\">\n",
              "  <thead>\n",
              "    <tr style=\"text-align: right;\">\n",
              "      <th></th>\n",
              "      <th>ID</th>\n",
              "      <th>Policy Start Date</th>\n",
              "      <th>Policy End Date</th>\n",
              "      <th>Gender</th>\n",
              "      <th>Age</th>\n",
              "      <th>First Transaction Date</th>\n",
              "      <th>No_Pol</th>\n",
              "      <th>Car_Category</th>\n",
              "      <th>Subject_Car_Colour</th>\n",
              "      <th>Subject_Car_Make</th>\n",
              "      <th>LGA_Name</th>\n",
              "      <th>State</th>\n",
              "      <th>ProductName</th>\n",
              "      <th>target</th>\n",
              "    </tr>\n",
              "  </thead>\n",
              "  <tbody>\n",
              "    <tr>\n",
              "      <th>13276</th>\n",
              "      <td>ID_ZTTHC5X</td>\n",
              "      <td>2010-12-05</td>\n",
              "      <td>2011-12-04</td>\n",
              "      <td>Male</td>\n",
              "      <td>67</td>\n",
              "      <td>2010-12-05</td>\n",
              "      <td>2</td>\n",
              "      <td>JEEP</td>\n",
              "      <td>Black</td>\n",
              "      <td>TOYOTA</td>\n",
              "      <td>Victoria Island</td>\n",
              "      <td>Lagos</td>\n",
              "      <td>Car Classic</td>\n",
              "      <td>NaN</td>\n",
              "    </tr>\n",
              "    <tr>\n",
              "      <th>13277</th>\n",
              "      <td>ID_ZUJAFUP</td>\n",
              "      <td>2010-01-14</td>\n",
              "      <td>2011-01-13</td>\n",
              "      <td>Male</td>\n",
              "      <td>43</td>\n",
              "      <td>2010-01-14</td>\n",
              "      <td>1</td>\n",
              "      <td>Saloon</td>\n",
              "      <td>Silver</td>\n",
              "      <td>Hyundai</td>\n",
              "      <td>Surulere</td>\n",
              "      <td>Lagos</td>\n",
              "      <td>Car Classic</td>\n",
              "      <td>NaN</td>\n",
              "    </tr>\n",
              "    <tr>\n",
              "      <th>13278</th>\n",
              "      <td>ID_ZWHCTUM</td>\n",
              "      <td>2010-07-26</td>\n",
              "      <td>2011-07-25</td>\n",
              "      <td>Male</td>\n",
              "      <td>30</td>\n",
              "      <td>2010-07-26</td>\n",
              "      <td>1</td>\n",
              "      <td>Truck</td>\n",
              "      <td>White</td>\n",
              "      <td>Iveco</td>\n",
              "      <td>Victoria Island</td>\n",
              "      <td>Lagos</td>\n",
              "      <td>CVTP</td>\n",
              "      <td>NaN</td>\n",
              "    </tr>\n",
              "    <tr>\n",
              "      <th>13279</th>\n",
              "      <td>ID_ZWQRL8L</td>\n",
              "      <td>2010-02-16</td>\n",
              "      <td>2011-02-15</td>\n",
              "      <td>Male</td>\n",
              "      <td>44</td>\n",
              "      <td>2010-02-16</td>\n",
              "      <td>2</td>\n",
              "      <td>Saloon</td>\n",
              "      <td>NaN</td>\n",
              "      <td>Nissan</td>\n",
              "      <td>Aba North</td>\n",
              "      <td>Aba-North</td>\n",
              "      <td>Car Classic</td>\n",
              "      <td>NaN</td>\n",
              "    </tr>\n",
              "    <tr>\n",
              "      <th>13280</th>\n",
              "      <td>ID_ZWZ92GU</td>\n",
              "      <td>2010-03-18</td>\n",
              "      <td>2011-03-17</td>\n",
              "      <td>Male</td>\n",
              "      <td>28</td>\n",
              "      <td>2010-03-18</td>\n",
              "      <td>1</td>\n",
              "      <td>Saloon</td>\n",
              "      <td>Silver</td>\n",
              "      <td>TOYOTA</td>\n",
              "      <td>NaN</td>\n",
              "      <td>NaN</td>\n",
              "      <td>Car Classic</td>\n",
              "      <td>NaN</td>\n",
              "    </tr>\n",
              "  </tbody>\n",
              "</table>\n",
              "</div>"
            ],
            "text/plain": [
              "               ID Policy Start Date Policy End Date Gender  Age  \\\n",
              "13276  ID_ZTTHC5X        2010-12-05      2011-12-04   Male   67   \n",
              "13277  ID_ZUJAFUP        2010-01-14      2011-01-13   Male   43   \n",
              "13278  ID_ZWHCTUM        2010-07-26      2011-07-25   Male   30   \n",
              "13279  ID_ZWQRL8L        2010-02-16      2011-02-15   Male   44   \n",
              "13280  ID_ZWZ92GU        2010-03-18      2011-03-17   Male   28   \n",
              "\n",
              "      First Transaction Date  No_Pol Car_Category Subject_Car_Colour  \\\n",
              "13276             2010-12-05       2         JEEP              Black   \n",
              "13277             2010-01-14       1       Saloon             Silver   \n",
              "13278             2010-07-26       1        Truck              White   \n",
              "13279             2010-02-16       2       Saloon                NaN   \n",
              "13280             2010-03-18       1       Saloon             Silver   \n",
              "\n",
              "      Subject_Car_Make         LGA_Name      State  ProductName  target  \n",
              "13276           TOYOTA  Victoria Island      Lagos  Car Classic     NaN  \n",
              "13277          Hyundai         Surulere      Lagos  Car Classic     NaN  \n",
              "13278            Iveco  Victoria Island      Lagos         CVTP     NaN  \n",
              "13279           Nissan        Aba North  Aba-North  Car Classic     NaN  \n",
              "13280           TOYOTA              NaN        NaN  Car Classic     NaN  "
            ]
          },
          "execution_count": 10,
          "metadata": {},
          "output_type": "execute_result"
        }
      ],
      "source": [
        "# Preview the last five rows of the combined dataframe\n",
        "all_data.tail()"
      ]
    },
    {
      "cell_type": "code",
      "execution_count": 11,
      "metadata": {
        "colab": {
          "base_uri": "https://localhost:8080/"
        },
        "id": "Zmhi38ur22yj",
        "outputId": "b70fdb83-6e8a-4d1d-c7e0-7461d6ef10ac"
      },
      "outputs": [
        {
          "name": "stdout",
          "output_type": "stream",
          "text": [
            "<class 'pandas.core.frame.DataFrame'>\n",
            "RangeIndex: 13281 entries, 0 to 13280\n",
            "Data columns (total 14 columns):\n",
            " #   Column                  Non-Null Count  Dtype  \n",
            "---  ------                  --------------  -----  \n",
            " 0   ID                      13281 non-null  object \n",
            " 1   Policy Start Date       13281 non-null  object \n",
            " 2   Policy End Date         13281 non-null  object \n",
            " 3   Gender                  12881 non-null  object \n",
            " 4   Age                     13281 non-null  int64  \n",
            " 5   First Transaction Date  13281 non-null  object \n",
            " 6   No_Pol                  13281 non-null  int64  \n",
            " 7   Car_Category            9171 non-null   object \n",
            " 8   Subject_Car_Colour      5622 non-null   object \n",
            " 9   Subject_Car_Make        10557 non-null  object \n",
            " 10  LGA_Name                6149 non-null   object \n",
            " 11  State                   6137 non-null   object \n",
            " 12  ProductName             13281 non-null  object \n",
            " 13  target                  12079 non-null  float64\n",
            "dtypes: float64(1), int64(2), object(11)\n",
            "memory usage: 1.4+ MB\n"
          ]
        }
      ],
      "source": [
        "# Check the column names and datatypes\n",
        "all_data.info()\n"
      ]
    },
    {
      "cell_type": "code",
      "execution_count": 12,
      "metadata": {
        "colab": {
          "base_uri": "https://localhost:8080/"
        },
        "id": "lErcKRUdRPCu",
        "outputId": "e2ab033e-4485-4b7c-eabd-aa50184494ed"
      },
      "outputs": [
        {
          "name": "stdout",
          "output_type": "stream",
          "text": [
            "<class 'pandas.core.frame.DataFrame'>\n",
            "RangeIndex: 13281 entries, 0 to 13280\n",
            "Data columns (total 14 columns):\n",
            " #   Column                  Non-Null Count  Dtype         \n",
            "---  ------                  --------------  -----         \n",
            " 0   ID                      13281 non-null  object        \n",
            " 1   Policy Start Date       13281 non-null  datetime64[ns]\n",
            " 2   Policy End Date         13281 non-null  datetime64[ns]\n",
            " 3   Gender                  12881 non-null  category      \n",
            " 4   Age                     13281 non-null  int64         \n",
            " 5   First Transaction Date  13281 non-null  datetime64[ns]\n",
            " 6   No_Pol                  13281 non-null  int64         \n",
            " 7   Car_Category            9171 non-null   category      \n",
            " 8   Subject_Car_Colour      5622 non-null   category      \n",
            " 9   Subject_Car_Make        10557 non-null  category      \n",
            " 10  LGA_Name                6149 non-null   category      \n",
            " 11  State                   6137 non-null   category      \n",
            " 12  ProductName             13281 non-null  category      \n",
            " 13  target                  12079 non-null  float64       \n",
            "dtypes: category(7), datetime64[ns](3), float64(1), int64(2), object(1)\n",
            "memory usage: 850.8+ KB\n"
          ]
        }
      ],
      "source": [
        "# Change each column to its appriopriate datatype\n",
        "date_cols = [col for col in all_data.columns if 'Date' in col]\n",
        "num_cols = ['Age', 'No_Pol']\n",
        "cat_cols = [col for col in all_data.columns if col not in date_cols+num_cols+['ID', 'target']]\n",
        "\n",
        "for col in all_data.columns:\n",
        "  if col in date_cols:\n",
        "    all_data[col] = pd.to_datetime(all_data[col])\n",
        "  elif col in cat_cols:\n",
        "    all_data[col] = all_data[col].astype('category')\n",
        "\n",
        "# Confirm whether the changes have been applied successfully\n",
        "all_data.info()"
      ]
    },
    {
      "cell_type": "markdown",
      "metadata": {
        "id": "pL-uhhyKUHWw"
      },
      "source": [
        "### Distribution of the target variable"
      ]
    },
    {
      "cell_type": "code",
      "execution_count": 13,
      "metadata": {
        "colab": {
          "base_uri": "https://localhost:8080/",
          "height": 296
        },
        "id": "lYzk7oDe22ym",
        "outputId": "230e7f80-d204-46b6-a66f-7dab63acef3b"
      },
      "outputs": [
        {
          "data": {
            "image/png": "[encoded data removed]",
            "text/plain": [
              "<Figure size 640x480 with 1 Axes>"
            ]
          },
          "metadata": {},
          "output_type": "display_data"
        }
      ],
      "source": [
        "sns.countplot(train.target)\n",
        "plt.title('Target Distribution', fontdict={'size':14});"
      ]
    },
    {
      "cell_type": "markdown",
      "metadata": {
        "id": "feOHk7mRheOQ"
      },
      "source": [
        "### Distribution of the Gender column"
      ]
    },
    {
      "cell_type": "code",
      "execution_count": 14,
      "metadata": {
        "colab": {
          "base_uri": "https://localhost:8080/",
          "height": 446
        },
        "id": "gLFQ8acB22yp",
        "outputId": "754f73d1-750f-4489-98a8-c4c874ab521f"
      },
      "outputs": [
        {
          "data": {
            "image/png": "[encoded data removed]",
            "text/plain": [
              "<Figure size 1000x700 with 1 Axes>"
            ]
          },
          "metadata": {},
          "output_type": "display_data"
        }
      ],
      "source": [
        "# Gender distribution \n",
        "ax = all_data.Gender.value_counts().sort_values().plot(kind = 'barh', figsize=(10,7))\n",
        "plt.title('Gender Distribution', fontdict={'size': 15})\n",
        "for p in ax.patches:\n",
        "  percentage ='{:,.1f}%'.format((p.get_width()/all_data.shape[0])*100)\n",
        "  width, height =p.get_width(),p.get_height()\n",
        "  x=p.get_x()+width+0.02\n",
        "  y=p.get_y()+height/2\n",
        "  ax.annotate(percentage,(x,y))"
      ]
    },
    {
      "cell_type": "code",
      "execution_count": 15,
      "metadata": {
        "colab": {
          "base_uri": "https://localhost:8080/"
        },
        "id": "nialRZ4hWhMW",
        "outputId": "d0282bec-7dec-4c18-e90c-b86e9817dd7b"
      },
      "outputs": [
        {
          "data": {
            "text/plain": [
              "Male      8356\n",
              "Female    3679\n",
              "Other      846\n",
              "Name: Gender, dtype: int64"
            ]
          },
          "execution_count": 15,
          "metadata": {},
          "output_type": "execute_result"
        }
      ],
      "source": [
        "mapper = {'Entity':'Other', 'Joint Gender':'Other', 'NOT STATED':'Other', 'NO GENDER': 'Other', 'SEX':\"Other\"}\n",
        "all_data.Gender = all_data.Gender.replace(mapper)\n",
        "\n",
        "# Confirm mappings\n",
        "all_data.Gender.value_counts()"
      ]
    },
    {
      "cell_type": "markdown",
      "metadata": {
        "id": "7rZ9LClahj5F"
      },
      "source": [
        "### Number of unique values per categorical column"
      ]
    },
    {
      "cell_type": "code",
      "execution_count": 16,
      "metadata": {
        "colab": {
          "base_uri": "https://localhost:8080/"
        },
        "id": "rOd8usWw22yp",
        "outputId": "dd5e9ed1-c566-4ae5-d881-c9eb26ba28e9"
      },
      "outputs": [
        {
          "name": "stdout",
          "output_type": "stream",
          "text": [
            "Gender\n",
            "['Male', 'Female', 'Other', NaN]\n",
            "Categories (3, object): ['Other', 'Female', 'Male'] \n",
            "\n",
            "Car_Category\n",
            "['Saloon', 'JEEP', NaN, 'Motorcycle', 'Truck', ..., 'Wagon', 'Shape Of Vehicle Chasis', 'Sedan', 'Station 4 Wheel', 'Tipper Truck']\n",
            "Length: 17\n",
            "Categories (16, object): ['Bus', 'CAMRY CAR HIRE', 'JEEP', 'Mini Bus', ..., 'Tipper Truck', 'Truck', 'Van', 'Wagon'] \n",
            "\n",
            "Subject_Car_Colour\n",
            "['Black', 'Grey', 'Red', NaN, 'As Attached', ..., 'Yellow & White', 'Beige Mitalic', 'Light Gray', 'Blue Sky', 'Red Maroon']\n",
            "Length: 47\n",
            "Categories (46, object): ['As Attached', 'Ash', 'B.Silver', 'Beige Mitalic', ..., 'White & Yellow', 'Wine', 'Yellow', 'Yellow & White'] \n",
            "\n",
            "Subject_Car_Make\n",
            "['TOYOTA', NaN, 'REXTON', 'Lexus', 'Hyundai', ..., 'BRILLIANCE', 'Buik', 'COMMANDER', 'Bajaj', 'Datsun']\n",
            "Length: 76\n",
            "Categories (75, object): ['.', 'ABG', 'ACURA', 'As Attached', ..., 'Volvo', 'Wrangler Jeep', 'Yamaha', 'ZOYTE'] \n",
            "\n",
            "LGA_Name\n",
            "[NaN, 'Lagos', 'Ikeja', 'Badagry', 'Eti-Osa', ..., 'Hong', 'Ifako-Agege', 'Benue', 'Okpokwu', 'Ngor-Okpala']\n",
            "Length: 271\n",
            "Categories (270, object): [' IFAKO', 'ABULE EGBA', 'AGBARA', 'AJAO ESTATE', ..., 'Yorro', 'Zaria', 'Zaria ', 'kumbotso'] \n",
            "\n",
            "State\n",
            "[NaN, 'Lagos', 'Benue', 'Eti-Osa', 'Delta', ..., 'ENUGU-SOUTH', 'Ijebu-North', 'Asari-Toru', 'Idemili-south', 'Ngor-Okpala']\n",
            "Length: 114\n",
            "Categories (113, object): ['ABULE-EGBA', 'AJAO-ESTATE', 'Aba-North', 'Aba-South', ..., 'Umuahia-South', 'Warri-Central', 'Warri-North', 'Warri-South'] \n",
            "\n",
            "ProductName\n",
            "['Car Classic', 'CarSafe', 'Muuve', 'CVTP', 'Car Plus', 'Motor Cycle', 'Customized Motor', 'CarFlex', 'Car Vintage']\n",
            "Categories (9, object): ['CVTP', 'Car Classic', 'Car Plus', 'Car Vintage', ..., 'CarSafe', 'Customized Motor', 'Motor Cycle', 'Muuve'] \n",
            "\n"
          ]
        }
      ],
      "source": [
        "# Check unique values for each categorical column\n",
        "for col in cat_cols:\n",
        "  print(col)\n",
        "  print(all_data[col].unique(), '\\n')"
      ]
    },
    {
      "cell_type": "markdown",
      "metadata": {
        "id": "2akc9eF-hsWo"
      },
      "source": [
        "### Filling in missing values\n",
        "#### Missing values can be filled using different strategies\n",
        "Tips:\n",
        " - Mean\n",
        " - Max\n",
        " - Min\n",
        " - [sklearn SimpleImputer](https://scikit-learn.org/stable/modules/generated/sklearn.impute.SimpleImputer.html)\n",
        " - Others... do more reasearch"
      ]
    },
    {
      "cell_type": "code",
      "execution_count": 17,
      "metadata": {},
      "outputs": [
        {
          "data": {
            "text/plain": [
              "'\\nall_data.isnull().sum()\\n\\n# Impute with most frequent categories\\nfor col in all_data.columns:\\n  if col in cat_cols:\\n    # If no category uknown create if there just continue                     \\n    all_data[col] = all_data[col].cat.add_categories(\"Uknown\").fillna(\"Uknown\")\\n    # all_data[col] = all_data[col].fillna(\"Uknown\")\\n  elif col in date_cols+num_cols:\\n    all_data[col] = all_data[col].fillna(all_data[col].mode()[0])\\nall_data[all_data.columns.difference([\\'target\\'])].isna().sum()\\n'"
            ]
          },
          "execution_count": 17,
          "metadata": {},
          "output_type": "execute_result"
        }
      ],
      "source": [
        "# Categorical data imputationb\n",
        "#  Imputation using New Category\n",
        "'''\n",
        "all_data.isnull().sum()\n",
        "\n",
        "# Impute with most frequent categories\n",
        "for col in all_data.columns:\n",
        "  if col in cat_cols:\n",
        "    # If no category uknown create if there just continue                     \n",
        "    all_data[col] = all_data[col].cat.add_categories(\"Uknown\").fillna(\"Uknown\")\n",
        "    # all_data[col] = all_data[col].fillna(\"Uknown\")\n",
        "  elif col in date_cols+num_cols:\n",
        "    all_data[col] = all_data[col].fillna(all_data[col].mode()[0])\n",
        "all_data[all_data.columns.difference(['target'])].isna().sum()\n",
        "'''\n"
      ]
    },
    {
      "cell_type": "code",
      "execution_count": 18,
      "metadata": {
        "colab": {
          "base_uri": "https://localhost:8080/"
        },
        "id": "E61_c9DZYkuu",
        "outputId": "44b08ab0-3223-46f2-bc42-0a905a527883"
      },
      "outputs": [],
      "source": [
        "# Fill in missing values\n",
        "# For cat cols and date cols fill in with mode and for num cols fill in with 9999\n",
        "# for col in all_data.columns:\n",
        "#   if col in date_cols+cat_cols:\n",
        "#     all_data[col] = all_data[col].fillna(all_data[col].mode()[0])\n",
        "#   elif col in num_cols:\n",
        "#     all_data[col] = all_data[col].fillna(all_data[col].fillna(9999))\n",
        "\n",
        "# # Confirm that there aren't any missing values\n",
        "# all_data[all_data.columns.difference(['target'])].isna().sum()\n"
      ]
    },
    {
      "cell_type": "markdown",
      "metadata": {
        "id": "Ppmv1kB5hvWs"
      },
      "source": [
        "### Feature Engineering\n",
        "#### Alot of features can be extracted from dates\n",
        "Tips:\n",
        " - Quarter, Start of Year, month?\n",
        " - Is it a weekend, weekday?\n",
        " - Is it a holiday\n",
        " - Duration between different periods, e.g start and end of a policy\n",
        " - What features can be derived from the age column\n",
        " - Be creative 😉"
      ]
    },
    {
      "cell_type": "code",
      "execution_count": 19,
      "metadata": {
        "colab": {
          "base_uri": "https://localhost:8080/",
          "height": 333
        },
        "id": "3ELOMgf3awEe",
        "outputId": "ad661bb6-4718-455e-84d2-ead392ed00c7"
      },
      "outputs": [
        {
          "data": {
            "text/html": [
              "<div>\n",
              "<style scoped>\n",
              "    .dataframe tbody tr th:only-of-type {\n",
              "        vertical-align: middle;\n",
              "    }\n",
              "\n",
              "    .dataframe tbody tr th {\n",
              "        vertical-align: top;\n",
              "    }\n",
              "\n",
              "    .dataframe thead th {\n",
              "        text-align: right;\n",
              "    }\n",
              "</style>\n",
              "<table border=\"1\" class=\"dataframe\">\n",
              "  <thead>\n",
              "    <tr style=\"text-align: right;\">\n",
              "      <th></th>\n",
              "      <th>ID</th>\n",
              "      <th>Policy Start Date</th>\n",
              "      <th>Policy End Date</th>\n",
              "      <th>Gender</th>\n",
              "      <th>Age</th>\n",
              "      <th>First Transaction Date</th>\n",
              "      <th>No_Pol</th>\n",
              "      <th>Car_Category</th>\n",
              "      <th>Subject_Car_Colour</th>\n",
              "      <th>Subject_Car_Make</th>\n",
              "      <th>...</th>\n",
              "      <th>target</th>\n",
              "      <th>Policy Start Dateyear</th>\n",
              "      <th>Policy Start Datemonth</th>\n",
              "      <th>Policy Start Dateday</th>\n",
              "      <th>Policy End Dateyear</th>\n",
              "      <th>Policy End Datemonth</th>\n",
              "      <th>Policy End Dateday</th>\n",
              "      <th>First Transaction Dateyear</th>\n",
              "      <th>First Transaction Datemonth</th>\n",
              "      <th>First Transaction Dateday</th>\n",
              "    </tr>\n",
              "  </thead>\n",
              "  <tbody>\n",
              "    <tr>\n",
              "      <th>0</th>\n",
              "      <td>ID_0040R73</td>\n",
              "      <td>2010-05-14</td>\n",
              "      <td>2011-05-13</td>\n",
              "      <td>Male</td>\n",
              "      <td>30</td>\n",
              "      <td>2010-05-14</td>\n",
              "      <td>1</td>\n",
              "      <td>Saloon</td>\n",
              "      <td>Black</td>\n",
              "      <td>TOYOTA</td>\n",
              "      <td>...</td>\n",
              "      <td>0.0</td>\n",
              "      <td>2010</td>\n",
              "      <td>5</td>\n",
              "      <td>14</td>\n",
              "      <td>2011</td>\n",
              "      <td>5</td>\n",
              "      <td>13</td>\n",
              "      <td>2010</td>\n",
              "      <td>5</td>\n",
              "      <td>14</td>\n",
              "    </tr>\n",
              "    <tr>\n",
              "      <th>1</th>\n",
              "      <td>ID_0046BNK</td>\n",
              "      <td>2010-11-29</td>\n",
              "      <td>2011-11-28</td>\n",
              "      <td>Female</td>\n",
              "      <td>79</td>\n",
              "      <td>2010-11-29</td>\n",
              "      <td>1</td>\n",
              "      <td>JEEP</td>\n",
              "      <td>Grey</td>\n",
              "      <td>TOYOTA</td>\n",
              "      <td>...</td>\n",
              "      <td>1.0</td>\n",
              "      <td>2010</td>\n",
              "      <td>11</td>\n",
              "      <td>29</td>\n",
              "      <td>2011</td>\n",
              "      <td>11</td>\n",
              "      <td>28</td>\n",
              "      <td>2010</td>\n",
              "      <td>11</td>\n",
              "      <td>29</td>\n",
              "    </tr>\n",
              "    <tr>\n",
              "      <th>2</th>\n",
              "      <td>ID_005QMC3</td>\n",
              "      <td>2010-03-21</td>\n",
              "      <td>2011-03-20</td>\n",
              "      <td>Male</td>\n",
              "      <td>43</td>\n",
              "      <td>2010-03-21</td>\n",
              "      <td>1</td>\n",
              "      <td>Saloon</td>\n",
              "      <td>Red</td>\n",
              "      <td>TOYOTA</td>\n",
              "      <td>...</td>\n",
              "      <td>0.0</td>\n",
              "      <td>2010</td>\n",
              "      <td>3</td>\n",
              "      <td>21</td>\n",
              "      <td>2011</td>\n",
              "      <td>3</td>\n",
              "      <td>20</td>\n",
              "      <td>2010</td>\n",
              "      <td>3</td>\n",
              "      <td>21</td>\n",
              "    </tr>\n",
              "    <tr>\n",
              "      <th>3</th>\n",
              "      <td>ID_0079OHW</td>\n",
              "      <td>2010-08-21</td>\n",
              "      <td>2011-08-20</td>\n",
              "      <td>Male</td>\n",
              "      <td>2</td>\n",
              "      <td>2010-08-21</td>\n",
              "      <td>1</td>\n",
              "      <td>NaN</td>\n",
              "      <td>NaN</td>\n",
              "      <td>NaN</td>\n",
              "      <td>...</td>\n",
              "      <td>0.0</td>\n",
              "      <td>2010</td>\n",
              "      <td>8</td>\n",
              "      <td>21</td>\n",
              "      <td>2011</td>\n",
              "      <td>8</td>\n",
              "      <td>20</td>\n",
              "      <td>2010</td>\n",
              "      <td>8</td>\n",
              "      <td>21</td>\n",
              "    </tr>\n",
              "    <tr>\n",
              "      <th>4</th>\n",
              "      <td>ID_00BRP63</td>\n",
              "      <td>2010-08-29</td>\n",
              "      <td>2010-12-31</td>\n",
              "      <td>Other</td>\n",
              "      <td>20</td>\n",
              "      <td>2010-08-29</td>\n",
              "      <td>3</td>\n",
              "      <td>NaN</td>\n",
              "      <td>NaN</td>\n",
              "      <td>NaN</td>\n",
              "      <td>...</td>\n",
              "      <td>1.0</td>\n",
              "      <td>2010</td>\n",
              "      <td>8</td>\n",
              "      <td>29</td>\n",
              "      <td>2010</td>\n",
              "      <td>12</td>\n",
              "      <td>31</td>\n",
              "      <td>2010</td>\n",
              "      <td>8</td>\n",
              "      <td>29</td>\n",
              "    </tr>\n",
              "  </tbody>\n",
              "</table>\n",
              "<p>5 rows × 23 columns</p>\n",
              "</div>"
            ],
            "text/plain": [
              "           ID Policy Start Date Policy End Date  Gender  Age  \\\n",
              "0  ID_0040R73        2010-05-14      2011-05-13    Male   30   \n",
              "1  ID_0046BNK        2010-11-29      2011-11-28  Female   79   \n",
              "2  ID_005QMC3        2010-03-21      2011-03-20    Male   43   \n",
              "3  ID_0079OHW        2010-08-21      2011-08-20    Male    2   \n",
              "4  ID_00BRP63        2010-08-29      2010-12-31   Other   20   \n",
              "\n",
              "  First Transaction Date  No_Pol Car_Category Subject_Car_Colour  \\\n",
              "0             2010-05-14       1       Saloon              Black   \n",
              "1             2010-11-29       1         JEEP               Grey   \n",
              "2             2010-03-21       1       Saloon                Red   \n",
              "3             2010-08-21       1          NaN                NaN   \n",
              "4             2010-08-29       3          NaN                NaN   \n",
              "\n",
              "  Subject_Car_Make  ... target Policy Start Dateyear Policy Start Datemonth  \\\n",
              "0           TOYOTA  ...    0.0                  2010                      5   \n",
              "1           TOYOTA  ...    1.0                  2010                     11   \n",
              "2           TOYOTA  ...    0.0                  2010                      3   \n",
              "3              NaN  ...    0.0                  2010                      8   \n",
              "4              NaN  ...    1.0                  2010                      8   \n",
              "\n",
              "   Policy Start Dateday  Policy End Dateyear  Policy End Datemonth  \\\n",
              "0                    14                 2011                     5   \n",
              "1                    29                 2011                    11   \n",
              "2                    21                 2011                     3   \n",
              "3                    21                 2011                     8   \n",
              "4                    29                 2010                    12   \n",
              "\n",
              "   Policy End Dateday  First Transaction Dateyear  \\\n",
              "0                  13                        2010   \n",
              "1                  28                        2010   \n",
              "2                  20                        2010   \n",
              "3                  20                        2010   \n",
              "4                  31                        2010   \n",
              "\n",
              "   First Transaction Datemonth  First Transaction Dateday  \n",
              "0                            5                         14  \n",
              "1                           11                         29  \n",
              "2                            3                         21  \n",
              "3                            8                         21  \n",
              "4                            8                         29  \n",
              "\n",
              "[5 rows x 23 columns]"
            ]
          },
          "execution_count": 19,
          "metadata": {},
          "output_type": "execute_result"
        }
      ],
      "source": [
        "# Extract date features from the date columns\n",
        "for col in date_cols:\n",
        "  for date_feature in ['year', 'month', 'day']:\n",
        "    all_data[col+date_feature] = getattr(all_data[col].dt, date_feature)\n",
        "\n",
        "all_data.head()"
      ]
    },
    {
      "cell_type": "markdown",
      "metadata": {},
      "source": [
        "<b><u>Duration in Days </u></b>\n",
        "- Found by differencing policy start and end days\n",
        "- Unique Values are 311\n",
        "- Max days taken: 11139\n",
        "- Min Days takes: 12\n",
        "- Mode days taken: 364 (People often take yearly claims)\n",
        "- Mean: 349.2185076424968"
      ]
    },
    {
      "cell_type": "code",
      "execution_count": 20,
      "metadata": {},
      "outputs": [],
      "source": [
        "all_data.insert(3,\"Duration(Days)\",0)"
      ]
    },
    {
      "cell_type": "code",
      "execution_count": 21,
      "metadata": {},
      "outputs": [
        {
          "data": {
            "text/plain": [
              "0    364\n",
              "1    364\n",
              "2    364\n",
              "3    364\n",
              "4    124\n",
              "Name: Duration(Days), dtype: int64"
            ]
          },
          "execution_count": 21,
          "metadata": {},
          "output_type": "execute_result"
        }
      ],
      "source": [
        "all_data[\"Duration(Days)\"] = (all_data['Policy End Date'] - all_data['Policy Start Date']).dt.days\n",
        "all_data[\"Duration(Days)\"].head()\n"
      ]
    },
    {
      "cell_type": "code",
      "execution_count": 22,
      "metadata": {},
      "outputs": [
        {
          "data": {
            "text/html": [
              "<div>\n",
              "<style scoped>\n",
              "    .dataframe tbody tr th:only-of-type {\n",
              "        vertical-align: middle;\n",
              "    }\n",
              "\n",
              "    .dataframe tbody tr th {\n",
              "        vertical-align: top;\n",
              "    }\n",
              "\n",
              "    .dataframe thead th {\n",
              "        text-align: right;\n",
              "    }\n",
              "</style>\n",
              "<table border=\"1\" class=\"dataframe\">\n",
              "  <thead>\n",
              "    <tr style=\"text-align: right;\">\n",
              "      <th></th>\n",
              "      <th>ID</th>\n",
              "      <th>Policy Start Date</th>\n",
              "      <th>Policy End Date</th>\n",
              "      <th>Duration(Days)</th>\n",
              "      <th>Gender</th>\n",
              "      <th>Age</th>\n",
              "      <th>First Transaction Date</th>\n",
              "      <th>No_Pol</th>\n",
              "      <th>Car_Category</th>\n",
              "      <th>Subject_Car_Colour</th>\n",
              "      <th>...</th>\n",
              "      <th>target</th>\n",
              "      <th>Policy Start Dateyear</th>\n",
              "      <th>Policy Start Datemonth</th>\n",
              "      <th>Policy Start Dateday</th>\n",
              "      <th>Policy End Dateyear</th>\n",
              "      <th>Policy End Datemonth</th>\n",
              "      <th>Policy End Dateday</th>\n",
              "      <th>First Transaction Dateyear</th>\n",
              "      <th>First Transaction Datemonth</th>\n",
              "      <th>First Transaction Dateday</th>\n",
              "    </tr>\n",
              "  </thead>\n",
              "  <tbody>\n",
              "    <tr>\n",
              "      <th>0</th>\n",
              "      <td>ID_0040R73</td>\n",
              "      <td>2010-05-14</td>\n",
              "      <td>2011-05-13</td>\n",
              "      <td>364</td>\n",
              "      <td>Male</td>\n",
              "      <td>30</td>\n",
              "      <td>2010-05-14</td>\n",
              "      <td>1</td>\n",
              "      <td>Saloon</td>\n",
              "      <td>Black</td>\n",
              "      <td>...</td>\n",
              "      <td>0.0</td>\n",
              "      <td>2010</td>\n",
              "      <td>5</td>\n",
              "      <td>14</td>\n",
              "      <td>2011</td>\n",
              "      <td>5</td>\n",
              "      <td>13</td>\n",
              "      <td>2010</td>\n",
              "      <td>5</td>\n",
              "      <td>14</td>\n",
              "    </tr>\n",
              "    <tr>\n",
              "      <th>1</th>\n",
              "      <td>ID_0046BNK</td>\n",
              "      <td>2010-11-29</td>\n",
              "      <td>2011-11-28</td>\n",
              "      <td>364</td>\n",
              "      <td>Female</td>\n",
              "      <td>79</td>\n",
              "      <td>2010-11-29</td>\n",
              "      <td>1</td>\n",
              "      <td>JEEP</td>\n",
              "      <td>Grey</td>\n",
              "      <td>...</td>\n",
              "      <td>1.0</td>\n",
              "      <td>2010</td>\n",
              "      <td>11</td>\n",
              "      <td>29</td>\n",
              "      <td>2011</td>\n",
              "      <td>11</td>\n",
              "      <td>28</td>\n",
              "      <td>2010</td>\n",
              "      <td>11</td>\n",
              "      <td>29</td>\n",
              "    </tr>\n",
              "    <tr>\n",
              "      <th>2</th>\n",
              "      <td>ID_005QMC3</td>\n",
              "      <td>2010-03-21</td>\n",
              "      <td>2011-03-20</td>\n",
              "      <td>364</td>\n",
              "      <td>Male</td>\n",
              "      <td>43</td>\n",
              "      <td>2010-03-21</td>\n",
              "      <td>1</td>\n",
              "      <td>Saloon</td>\n",
              "      <td>Red</td>\n",
              "      <td>...</td>\n",
              "      <td>0.0</td>\n",
              "      <td>2010</td>\n",
              "      <td>3</td>\n",
              "      <td>21</td>\n",
              "      <td>2011</td>\n",
              "      <td>3</td>\n",
              "      <td>20</td>\n",
              "      <td>2010</td>\n",
              "      <td>3</td>\n",
              "      <td>21</td>\n",
              "    </tr>\n",
              "    <tr>\n",
              "      <th>3</th>\n",
              "      <td>ID_0079OHW</td>\n",
              "      <td>2010-08-21</td>\n",
              "      <td>2011-08-20</td>\n",
              "      <td>364</td>\n",
              "      <td>Male</td>\n",
              "      <td>2</td>\n",
              "      <td>2010-08-21</td>\n",
              "      <td>1</td>\n",
              "      <td>NaN</td>\n",
              "      <td>NaN</td>\n",
              "      <td>...</td>\n",
              "      <td>0.0</td>\n",
              "      <td>2010</td>\n",
              "      <td>8</td>\n",
              "      <td>21</td>\n",
              "      <td>2011</td>\n",
              "      <td>8</td>\n",
              "      <td>20</td>\n",
              "      <td>2010</td>\n",
              "      <td>8</td>\n",
              "      <td>21</td>\n",
              "    </tr>\n",
              "    <tr>\n",
              "      <th>4</th>\n",
              "      <td>ID_00BRP63</td>\n",
              "      <td>2010-08-29</td>\n",
              "      <td>2010-12-31</td>\n",
              "      <td>124</td>\n",
              "      <td>Other</td>\n",
              "      <td>20</td>\n",
              "      <td>2010-08-29</td>\n",
              "      <td>3</td>\n",
              "      <td>NaN</td>\n",
              "      <td>NaN</td>\n",
              "      <td>...</td>\n",
              "      <td>1.0</td>\n",
              "      <td>2010</td>\n",
              "      <td>8</td>\n",
              "      <td>29</td>\n",
              "      <td>2010</td>\n",
              "      <td>12</td>\n",
              "      <td>31</td>\n",
              "      <td>2010</td>\n",
              "      <td>8</td>\n",
              "      <td>29</td>\n",
              "    </tr>\n",
              "  </tbody>\n",
              "</table>\n",
              "<p>5 rows × 24 columns</p>\n",
              "</div>"
            ],
            "text/plain": [
              "           ID Policy Start Date Policy End Date  Duration(Days)  Gender  Age  \\\n",
              "0  ID_0040R73        2010-05-14      2011-05-13             364    Male   30   \n",
              "1  ID_0046BNK        2010-11-29      2011-11-28             364  Female   79   \n",
              "2  ID_005QMC3        2010-03-21      2011-03-20             364    Male   43   \n",
              "3  ID_0079OHW        2010-08-21      2011-08-20             364    Male    2   \n",
              "4  ID_00BRP63        2010-08-29      2010-12-31             124   Other   20   \n",
              "\n",
              "  First Transaction Date  No_Pol Car_Category Subject_Car_Colour  ... target  \\\n",
              "0             2010-05-14       1       Saloon              Black  ...    0.0   \n",
              "1             2010-11-29       1         JEEP               Grey  ...    1.0   \n",
              "2             2010-03-21       1       Saloon                Red  ...    0.0   \n",
              "3             2010-08-21       1          NaN                NaN  ...    0.0   \n",
              "4             2010-08-29       3          NaN                NaN  ...    1.0   \n",
              "\n",
              "  Policy Start Dateyear Policy Start Datemonth Policy Start Dateday  \\\n",
              "0                  2010                      5                   14   \n",
              "1                  2010                     11                   29   \n",
              "2                  2010                      3                   21   \n",
              "3                  2010                      8                   21   \n",
              "4                  2010                      8                   29   \n",
              "\n",
              "   Policy End Dateyear  Policy End Datemonth  Policy End Dateday  \\\n",
              "0                 2011                     5                  13   \n",
              "1                 2011                    11                  28   \n",
              "2                 2011                     3                  20   \n",
              "3                 2011                     8                  20   \n",
              "4                 2010                    12                  31   \n",
              "\n",
              "   First Transaction Dateyear  First Transaction Datemonth  \\\n",
              "0                        2010                            5   \n",
              "1                        2010                           11   \n",
              "2                        2010                            3   \n",
              "3                        2010                            8   \n",
              "4                        2010                            8   \n",
              "\n",
              "   First Transaction Dateday  \n",
              "0                         14  \n",
              "1                         29  \n",
              "2                         21  \n",
              "3                         21  \n",
              "4                         29  \n",
              "\n",
              "[5 rows x 24 columns]"
            ]
          },
          "execution_count": 22,
          "metadata": {},
          "output_type": "execute_result"
        }
      ],
      "source": [
        "\n",
        "all_data.head()"
      ]
    },
    {
      "cell_type": "markdown",
      "metadata": {},
      "source": [
        "<b><u> Actual Days Of The Week"
      ]
    },
    {
      "cell_type": "code",
      "execution_count": 23,
      "metadata": {},
      "outputs": [],
      "source": [
        "# Weekday or Weekends\n",
        "# Add 4 columns: Start_date week day. Start_date holiday. End_date weekday. End_date holiday (1,0)\n",
        "# Get index to place the new columns for Start Date\n",
        "start_day_loc = all_data.columns.get_loc(\"Policy Start Dateday\")\n",
        "all_data.insert(start_day_loc+1,\"Policy Start Date Actualday\",\"\")\n"
      ]
    },
    {
      "cell_type": "code",
      "execution_count": 24,
      "metadata": {},
      "outputs": [],
      "source": [
        "end_day_loc = all_data.columns.get_loc(\"Policy End Dateday\")\n",
        "all_data.insert(end_day_loc+1,\"Policy End Date Actualday\",\"\")"
      ]
    },
    {
      "cell_type": "code",
      "execution_count": 25,
      "metadata": {},
      "outputs": [
        {
          "data": {
            "text/html": [
              "<div>\n",
              "<style scoped>\n",
              "    .dataframe tbody tr th:only-of-type {\n",
              "        vertical-align: middle;\n",
              "    }\n",
              "\n",
              "    .dataframe tbody tr th {\n",
              "        vertical-align: top;\n",
              "    }\n",
              "\n",
              "    .dataframe thead th {\n",
              "        text-align: right;\n",
              "    }\n",
              "</style>\n",
              "<table border=\"1\" class=\"dataframe\">\n",
              "  <thead>\n",
              "    <tr style=\"text-align: right;\">\n",
              "      <th></th>\n",
              "      <th>ID</th>\n",
              "      <th>Policy Start Date</th>\n",
              "      <th>Policy End Date</th>\n",
              "      <th>Duration(Days)</th>\n",
              "      <th>Gender</th>\n",
              "      <th>Age</th>\n",
              "      <th>First Transaction Date</th>\n",
              "      <th>No_Pol</th>\n",
              "      <th>Car_Category</th>\n",
              "      <th>Subject_Car_Colour</th>\n",
              "      <th>Subject_Car_Make</th>\n",
              "      <th>LGA_Name</th>\n",
              "      <th>State</th>\n",
              "      <th>ProductName</th>\n",
              "      <th>target</th>\n",
              "      <th>Policy Start Dateyear</th>\n",
              "    </tr>\n",
              "  </thead>\n",
              "  <tbody>\n",
              "    <tr>\n",
              "      <th>0</th>\n",
              "      <td>ID_0040R73</td>\n",
              "      <td>2010-05-14</td>\n",
              "      <td>2011-05-13</td>\n",
              "      <td>364</td>\n",
              "      <td>Male</td>\n",
              "      <td>30</td>\n",
              "      <td>2010-05-14</td>\n",
              "      <td>1</td>\n",
              "      <td>Saloon</td>\n",
              "      <td>Black</td>\n",
              "      <td>TOYOTA</td>\n",
              "      <td>NaN</td>\n",
              "      <td>NaN</td>\n",
              "      <td>Car Classic</td>\n",
              "      <td>0.0</td>\n",
              "      <td>2010</td>\n",
              "    </tr>\n",
              "    <tr>\n",
              "      <th>1</th>\n",
              "      <td>ID_0046BNK</td>\n",
              "      <td>2010-11-29</td>\n",
              "      <td>2011-11-28</td>\n",
              "      <td>364</td>\n",
              "      <td>Female</td>\n",
              "      <td>79</td>\n",
              "      <td>2010-11-29</td>\n",
              "      <td>1</td>\n",
              "      <td>JEEP</td>\n",
              "      <td>Grey</td>\n",
              "      <td>TOYOTA</td>\n",
              "      <td>NaN</td>\n",
              "      <td>NaN</td>\n",
              "      <td>Car Classic</td>\n",
              "      <td>1.0</td>\n",
              "      <td>2010</td>\n",
              "    </tr>\n",
              "    <tr>\n",
              "      <th>2</th>\n",
              "      <td>ID_005QMC3</td>\n",
              "      <td>2010-03-21</td>\n",
              "      <td>2011-03-20</td>\n",
              "      <td>364</td>\n",
              "      <td>Male</td>\n",
              "      <td>43</td>\n",
              "      <td>2010-03-21</td>\n",
              "      <td>1</td>\n",
              "      <td>Saloon</td>\n",
              "      <td>Red</td>\n",
              "      <td>TOYOTA</td>\n",
              "      <td>NaN</td>\n",
              "      <td>NaN</td>\n",
              "      <td>Car Classic</td>\n",
              "      <td>0.0</td>\n",
              "      <td>2010</td>\n",
              "    </tr>\n",
              "    <tr>\n",
              "      <th>3</th>\n",
              "      <td>ID_0079OHW</td>\n",
              "      <td>2010-08-21</td>\n",
              "      <td>2011-08-20</td>\n",
              "      <td>364</td>\n",
              "      <td>Male</td>\n",
              "      <td>2</td>\n",
              "      <td>2010-08-21</td>\n",
              "      <td>1</td>\n",
              "      <td>NaN</td>\n",
              "      <td>NaN</td>\n",
              "      <td>NaN</td>\n",
              "      <td>NaN</td>\n",
              "      <td>NaN</td>\n",
              "      <td>CarSafe</td>\n",
              "      <td>0.0</td>\n",
              "      <td>2010</td>\n",
              "    </tr>\n",
              "    <tr>\n",
              "      <th>4</th>\n",
              "      <td>ID_00BRP63</td>\n",
              "      <td>2010-08-29</td>\n",
              "      <td>2010-12-31</td>\n",
              "      <td>124</td>\n",
              "      <td>Other</td>\n",
              "      <td>20</td>\n",
              "      <td>2010-08-29</td>\n",
              "      <td>3</td>\n",
              "      <td>NaN</td>\n",
              "      <td>NaN</td>\n",
              "      <td>NaN</td>\n",
              "      <td>Lagos</td>\n",
              "      <td>Lagos</td>\n",
              "      <td>Muuve</td>\n",
              "      <td>1.0</td>\n",
              "      <td>2010</td>\n",
              "    </tr>\n",
              "  </tbody>\n",
              "</table>\n",
              "</div>"
            ],
            "text/plain": [
              "           ID Policy Start Date Policy End Date  Duration(Days)  Gender  Age  \\\n",
              "0  ID_0040R73        2010-05-14      2011-05-13             364    Male   30   \n",
              "1  ID_0046BNK        2010-11-29      2011-11-28             364  Female   79   \n",
              "2  ID_005QMC3        2010-03-21      2011-03-20             364    Male   43   \n",
              "3  ID_0079OHW        2010-08-21      2011-08-20             364    Male    2   \n",
              "4  ID_00BRP63        2010-08-29      2010-12-31             124   Other   20   \n",
              "\n",
              "  First Transaction Date  No_Pol Car_Category Subject_Car_Colour  \\\n",
              "0             2010-05-14       1       Saloon              Black   \n",
              "1             2010-11-29       1         JEEP               Grey   \n",
              "2             2010-03-21       1       Saloon                Red   \n",
              "3             2010-08-21       1          NaN                NaN   \n",
              "4             2010-08-29       3          NaN                NaN   \n",
              "\n",
              "  Subject_Car_Make LGA_Name  State  ProductName  target  Policy Start Dateyear  \n",
              "0           TOYOTA      NaN    NaN  Car Classic     0.0                   2010  \n",
              "1           TOYOTA      NaN    NaN  Car Classic     1.0                   2010  \n",
              "2           TOYOTA      NaN    NaN  Car Classic     0.0                   2010  \n",
              "3              NaN      NaN    NaN      CarSafe     0.0                   2010  \n",
              "4              NaN    Lagos  Lagos        Muuve     1.0                   2010  "
            ]
          },
          "execution_count": 25,
          "metadata": {},
          "output_type": "execute_result"
        }
      ],
      "source": [
        "\n",
        "# type(all_data['Policy End Date'][0])\n",
        "# all_data['Policy Start Date'][2].day_name()\n",
        "for position, day in enumerate(all_data['Policy Start Date']):\n",
        "    all_data['Policy Start Date Actualday'][position] = day.day_name()\n",
        "for position, day in enumerate(all_data['Policy End Date']):\n",
        "    all_data['Policy End Date Actualday'][position] = day.day_name()\n",
        "all_data.head(). iloc[:, 0:16]\n",
        "\n"
      ]
    },
    {
      "cell_type": "markdown",
      "metadata": {},
      "source": [
        "<b><u> WeekDays and Weekends"
      ]
    },
    {
      "cell_type": "code",
      "execution_count": 30,
      "metadata": {},
      "outputs": [],
      "source": [
        "start_day_loc = all_data.columns.get_loc(\"Policy Start Date Actualday\")\n",
        "all_data.insert(start_day_loc+1,\"Weekday Start Date\",\"\")"
      ]
    },
    {
      "cell_type": "code",
      "execution_count": 31,
      "metadata": {},
      "outputs": [],
      "source": [
        "end_day_loc = all_data.columns.get_loc(\"Policy End Date Actualday\")\n",
        "all_data.insert(start_day_loc+1,\"Weekday End Date\",\"\")"
      ]
    },
    {
      "cell_type": "code",
      "execution_count": 32,
      "metadata": {},
      "outputs": [
        {
          "data": {
            "text/plain": [
              "0        1\n",
              "1        0\n",
              "2        1\n",
              "3        1\n",
              "4        1\n",
              "        ..\n",
              "13276    1\n",
              "13277    0\n",
              "13278    0\n",
              "13279    0\n",
              "13280    0\n",
              "Name: Weekday Start Date, Length: 13281, dtype: object"
            ]
          },
          "execution_count": 32,
          "metadata": {},
          "output_type": "execute_result"
        }
      ],
      "source": [
        "# Weekday(1) and Weekends(0)\n",
        "weekends = ['Friday','Saturday','Sunday']\n",
        "for position, day in enumerate(all_data[\"Policy Start Date Actualday\"]):\n",
        "    if day in weekends:\n",
        "        all_data[\"Weekday Start Date\"][position] = 1\n",
        "    else:\n",
        "        all_data[\"Weekday Start Date\"][position] = 0\n",
        "\n",
        "for position, day in enumerate(all_data[\"Policy End Date Actualday\"]):\n",
        "    if day in weekends:\n",
        "        all_data[\"Weekday End Date\"][position] = 1\n",
        "    else:\n",
        "        all_data[\"Weekday End Date\"][position] = 0\n",
        " \n",
        "all_data[\"Weekday Start Date\"]"
      ]
    },
    {
      "cell_type": "markdown",
      "metadata": {},
      "source": [
        "<b><u> Holidays"
      ]
    },
    {
      "cell_type": "code",
      "execution_count": null,
      "metadata": {},
      "outputs": [],
      "source": [
        "start_day_loc = all_data.columns.get_loc(\"Policy Start Dateday\")\n",
        "all_data.insert(start_day_loc+1, \"Policy Start Holiday\",0)\n"
      ]
    },
    {
      "cell_type": "code",
      "execution_count": null,
      "metadata": {},
      "outputs": [],
      "source": [
        "\n",
        "end_day_loc = all_data.columns.get_loc(\"Policy End Dateday\")\n",
        "all_data.insert(end_day_loc+1, \"Policy End Holiday\",0)"
      ]
    },
    {
      "cell_type": "code",
      "execution_count": 27,
      "metadata": {},
      "outputs": [],
      "source": [
        "# Find holidays In the Country\n",
        "nigeria_holidays = ['1/1','25/2','26/2','2/4','5/4','1/5','31/5','8/9','10/9','1/10','16/11','17/11','25/12','26/12']\n",
        "# len(nigeria_holidays)\n",
        "# 14 holidays in nigeria\n"
      ]
    },
    {
      "cell_type": "code",
      "execution_count": null,
      "metadata": {},
      "outputs": [
        {
          "data": {
            "text/html": [
              "<div>\n",
              "<style scoped>\n",
              "    .dataframe tbody tr th:only-of-type {\n",
              "        vertical-align: middle;\n",
              "    }\n",
              "\n",
              "    .dataframe tbody tr th {\n",
              "        vertical-align: top;\n",
              "    }\n",
              "\n",
              "    .dataframe thead th {\n",
              "        text-align: right;\n",
              "    }\n",
              "</style>\n",
              "<table border=\"1\" class=\"dataframe\">\n",
              "  <thead>\n",
              "    <tr style=\"text-align: right;\">\n",
              "      <th></th>\n",
              "      <th>ID</th>\n",
              "      <th>Policy Start Date</th>\n",
              "      <th>Policy End Date</th>\n",
              "      <th>Duration(Days)</th>\n",
              "      <th>Gender</th>\n",
              "      <th>Age</th>\n",
              "      <th>First Transaction Date</th>\n",
              "      <th>No_Pol</th>\n",
              "      <th>Car_Category</th>\n",
              "      <th>Subject_Car_Colour</th>\n",
              "      <th>...</th>\n",
              "      <th>ProductName</th>\n",
              "      <th>Policy End Date Actualday</th>\n",
              "      <th>target</th>\n",
              "      <th>Policy Start Dateyear</th>\n",
              "      <th>Policy Start Datemonth</th>\n",
              "      <th>YearQuarters Policy Start</th>\n",
              "      <th></th>\n",
              "      <th>Policy Start Dateday</th>\n",
              "      <th>Policy Start Holiday</th>\n",
              "      <th>Policy End Dateyear</th>\n",
              "    </tr>\n",
              "  </thead>\n",
              "  <tbody>\n",
              "    <tr>\n",
              "      <th>0</th>\n",
              "      <td>ID_0040R73</td>\n",
              "      <td>2010-05-14</td>\n",
              "      <td>2011-05-13</td>\n",
              "      <td>364</td>\n",
              "      <td>Male</td>\n",
              "      <td>30</td>\n",
              "      <td>2010-05-14</td>\n",
              "      <td>1</td>\n",
              "      <td>Saloon</td>\n",
              "      <td>Black</td>\n",
              "      <td>...</td>\n",
              "      <td>Car Classic</td>\n",
              "      <td>Friday</td>\n",
              "      <td>0.0</td>\n",
              "      <td>2010</td>\n",
              "      <td>5</td>\n",
              "      <td>2</td>\n",
              "      <td>0</td>\n",
              "      <td>14</td>\n",
              "      <td>0</td>\n",
              "      <td>2011</td>\n",
              "    </tr>\n",
              "    <tr>\n",
              "      <th>1</th>\n",
              "      <td>ID_0046BNK</td>\n",
              "      <td>2010-11-29</td>\n",
              "      <td>2011-11-28</td>\n",
              "      <td>364</td>\n",
              "      <td>Female</td>\n",
              "      <td>79</td>\n",
              "      <td>2010-11-29</td>\n",
              "      <td>1</td>\n",
              "      <td>JEEP</td>\n",
              "      <td>Grey</td>\n",
              "      <td>...</td>\n",
              "      <td>Car Classic</td>\n",
              "      <td>Monday</td>\n",
              "      <td>1.0</td>\n",
              "      <td>2010</td>\n",
              "      <td>11</td>\n",
              "      <td>4</td>\n",
              "      <td>0</td>\n",
              "      <td>29</td>\n",
              "      <td>0</td>\n",
              "      <td>2011</td>\n",
              "    </tr>\n",
              "    <tr>\n",
              "      <th>2</th>\n",
              "      <td>ID_005QMC3</td>\n",
              "      <td>2010-03-21</td>\n",
              "      <td>2011-03-20</td>\n",
              "      <td>364</td>\n",
              "      <td>Male</td>\n",
              "      <td>43</td>\n",
              "      <td>2010-03-21</td>\n",
              "      <td>1</td>\n",
              "      <td>Saloon</td>\n",
              "      <td>Red</td>\n",
              "      <td>...</td>\n",
              "      <td>Car Classic</td>\n",
              "      <td>Sunday</td>\n",
              "      <td>0.0</td>\n",
              "      <td>2010</td>\n",
              "      <td>3</td>\n",
              "      <td>1</td>\n",
              "      <td>0</td>\n",
              "      <td>21</td>\n",
              "      <td>0</td>\n",
              "      <td>2011</td>\n",
              "    </tr>\n",
              "    <tr>\n",
              "      <th>3</th>\n",
              "      <td>ID_0079OHW</td>\n",
              "      <td>2010-08-21</td>\n",
              "      <td>2011-08-20</td>\n",
              "      <td>364</td>\n",
              "      <td>Male</td>\n",
              "      <td>2</td>\n",
              "      <td>2010-08-21</td>\n",
              "      <td>1</td>\n",
              "      <td>NaN</td>\n",
              "      <td>NaN</td>\n",
              "      <td>...</td>\n",
              "      <td>CarSafe</td>\n",
              "      <td>Saturday</td>\n",
              "      <td>0.0</td>\n",
              "      <td>2010</td>\n",
              "      <td>8</td>\n",
              "      <td>3</td>\n",
              "      <td>0</td>\n",
              "      <td>21</td>\n",
              "      <td>0</td>\n",
              "      <td>2011</td>\n",
              "    </tr>\n",
              "    <tr>\n",
              "      <th>4</th>\n",
              "      <td>ID_00BRP63</td>\n",
              "      <td>2010-08-29</td>\n",
              "      <td>2010-12-31</td>\n",
              "      <td>124</td>\n",
              "      <td>Other</td>\n",
              "      <td>20</td>\n",
              "      <td>2010-08-29</td>\n",
              "      <td>3</td>\n",
              "      <td>NaN</td>\n",
              "      <td>NaN</td>\n",
              "      <td>...</td>\n",
              "      <td>Muuve</td>\n",
              "      <td>Friday</td>\n",
              "      <td>1.0</td>\n",
              "      <td>2010</td>\n",
              "      <td>8</td>\n",
              "      <td>3</td>\n",
              "      <td>0</td>\n",
              "      <td>29</td>\n",
              "      <td>0</td>\n",
              "      <td>2010</td>\n",
              "    </tr>\n",
              "  </tbody>\n",
              "</table>\n",
              "<p>5 rows × 24 columns</p>\n",
              "</div>"
            ],
            "text/plain": [
              "           ID Policy Start Date Policy End Date  Duration(Days)  Gender  Age  \\\n",
              "0  ID_0040R73        2010-05-14      2011-05-13             364    Male   30   \n",
              "1  ID_0046BNK        2010-11-29      2011-11-28             364  Female   79   \n",
              "2  ID_005QMC3        2010-03-21      2011-03-20             364    Male   43   \n",
              "3  ID_0079OHW        2010-08-21      2011-08-20             364    Male    2   \n",
              "4  ID_00BRP63        2010-08-29      2010-12-31             124   Other   20   \n",
              "\n",
              "  First Transaction Date  No_Pol Car_Category Subject_Car_Colour  ...  \\\n",
              "0             2010-05-14       1       Saloon              Black  ...   \n",
              "1             2010-11-29       1         JEEP               Grey  ...   \n",
              "2             2010-03-21       1       Saloon                Red  ...   \n",
              "3             2010-08-21       1          NaN                NaN  ...   \n",
              "4             2010-08-29       3          NaN                NaN  ...   \n",
              "\n",
              "   ProductName Policy End Date Actualday target Policy Start Dateyear  \\\n",
              "0  Car Classic                    Friday    0.0                  2010   \n",
              "1  Car Classic                    Monday    1.0                  2010   \n",
              "2  Car Classic                    Sunday    0.0                  2010   \n",
              "3      CarSafe                  Saturday    0.0                  2010   \n",
              "4        Muuve                    Friday    1.0                  2010   \n",
              "\n",
              "  Policy Start Datemonth YearQuarters Policy Start     Policy Start Dateday  \\\n",
              "0                      5                         2  0                    14   \n",
              "1                     11                         4  0                    29   \n",
              "2                      3                         1  0                    21   \n",
              "3                      8                         3  0                    21   \n",
              "4                      8                         3  0                    29   \n",
              "\n",
              "   Policy Start Holiday  Policy End Dateyear  \n",
              "0                     0                 2011  \n",
              "1                     0                 2011  \n",
              "2                     0                 2011  \n",
              "3                     0                 2011  \n",
              "4                     0                 2010  \n",
              "\n",
              "[5 rows x 24 columns]"
            ]
          },
          "execution_count": 95,
          "metadata": {},
          "output_type": "execute_result"
        }
      ],
      "source": [
        "all_data.head(). iloc[:, 0:24]\n"
      ]
    },
    {
      "cell_type": "markdown",
      "metadata": {},
      "source": [
        "<b><u> Quarter of the Year"
      ]
    },
    {
      "cell_type": "code",
      "execution_count": null,
      "metadata": {},
      "outputs": [],
      "source": [
        "\n",
        "start_month_loc = all_data.columns.get_loc(\"Policy Start Datemonth\")\n",
        "all_data.insert(start_month_loc+1, \"YearQuarters Policy Start\",0)"
      ]
    },
    {
      "cell_type": "code",
      "execution_count": null,
      "metadata": {},
      "outputs": [],
      "source": [
        "end_month_loc = all_data.columns.get_loc(\"Policy End Datemonth\")\n",
        "all_data.insert(end_month_loc+1, \"YearQuarters Policy End\",0)"
      ]
    },
    {
      "cell_type": "code",
      "execution_count": null,
      "metadata": {},
      "outputs": [
        {
          "data": {
            "text/plain": [
              "0        2\n",
              "1        4\n",
              "2        1\n",
              "3        3\n",
              "4        3\n",
              "        ..\n",
              "13276    4\n",
              "13277    1\n",
              "13278    3\n",
              "13279    1\n",
              "13280    1\n",
              "Name: YearQuarters Policy Start, Length: 13281, dtype: int64"
            ]
          },
          "execution_count": 79,
          "metadata": {},
          "output_type": "execute_result"
        }
      ],
      "source": [
        "# Quarter Year(1,4,8,12), Start of Year and End of year\n",
        "# 1. Add Quarter of Year columns\n",
        "# 2. Has 4 Categories: switch\n",
        "quarter_start_policy = all_data[\"YearQuarters Policy Start\"]\n",
        "month_policy_start = all_data[\"Policy Start Datemonth\"]\n",
        "for position, month in enumerate(month_policy_start):\n",
        "    if month <= 3:\n",
        "        quarter_start_policy[position] = 1\n",
        "    elif month > 3 and month <= 6:\n",
        "        quarter_start_policy[position] = 2\n",
        "    elif month > 6 and month <= 9:\n",
        "        quarter_start_policy[position] = 3\n",
        "    else:\n",
        "        quarter_start_policy[position] = 4\n",
        "quarter_start_policy"
      ]
    },
    {
      "cell_type": "code",
      "execution_count": null,
      "metadata": {},
      "outputs": [
        {
          "data": {
            "text/plain": [
              "0        2\n",
              "1        4\n",
              "2        1\n",
              "3        3\n",
              "4        4\n",
              "        ..\n",
              "13276    4\n",
              "13277    1\n",
              "13278    3\n",
              "13279    1\n",
              "13280    1\n",
              "Name: YearQuarters Policy End, Length: 13281, dtype: int64"
            ]
          },
          "execution_count": 38,
          "metadata": {},
          "output_type": "execute_result"
        }
      ],
      "source": [
        "#Policy End Quarter\n",
        "quarter_end_policy = all_data[\"YearQuarters Policy End\"]\n",
        "month_policy_start = all_data[\"Policy End Datemonth\"]\n",
        "for position, month in enumerate(month_policy_start):\n",
        "    if month <= 3:\n",
        "        quarter_end_policy[position] = 1\n",
        "    elif month > 3 and month <= 6:\n",
        "        quarter_end_policy[position] = 2\n",
        "    elif month > 6 and month <= 9:\n",
        "        quarter_end_policy[position] = 3\n",
        "    else:\n",
        "        quarter_end_policy[position] = 4\n",
        "quarter_end_policy"
      ]
    },
    {
      "cell_type": "markdown",
      "metadata": {
        "id": "XOnSMk9im9EC"
      },
      "source": [
        "#### Try different strategies of dealing with categorical variables\n",
        "Tips:\n",
        " - One hot encoding\n",
        " - Label encoding\n",
        " - Target encoding\n",
        " - Reduce the number of unique values..."
      ]
    },
    {
      "cell_type": "code",
      "execution_count": null,
      "metadata": {
        "colab": {
          "base_uri": "https://localhost:8080/",
          "height": 362
        },
        "id": "hzZXqfvE22y9",
        "outputId": "422be2fb-2657-4d3a-c97a-5f81a2736170"
      },
      "outputs": [
        {
          "data": {
            "text/html": [
              "<div>\n",
              "<style scoped>\n",
              "    .dataframe tbody tr th:only-of-type {\n",
              "        vertical-align: middle;\n",
              "    }\n",
              "\n",
              "    .dataframe tbody tr th {\n",
              "        vertical-align: top;\n",
              "    }\n",
              "\n",
              "    .dataframe thead th {\n",
              "        text-align: right;\n",
              "    }\n",
              "</style>\n",
              "<table border=\"1\" class=\"dataframe\">\n",
              "  <thead>\n",
              "    <tr style=\"text-align: right;\">\n",
              "      <th></th>\n",
              "      <th>ID</th>\n",
              "      <th>Policy Start Date</th>\n",
              "      <th>Policy End Date</th>\n",
              "      <th>Duration(Days)</th>\n",
              "      <th>Age</th>\n",
              "      <th>First Transaction Date</th>\n",
              "      <th>No_Pol</th>\n",
              "      <th>Policy Start Date Actualday</th>\n",
              "      <th>Policy End Date Actualday</th>\n",
              "      <th>target</th>\n",
              "      <th>...</th>\n",
              "      <th>State_Warri-South</th>\n",
              "      <th>ProductName_CVTP</th>\n",
              "      <th>ProductName_Car Classic</th>\n",
              "      <th>ProductName_Car Plus</th>\n",
              "      <th>ProductName_Car Vintage</th>\n",
              "      <th>ProductName_CarFlex</th>\n",
              "      <th>ProductName_CarSafe</th>\n",
              "      <th>ProductName_Customized Motor</th>\n",
              "      <th>ProductName_Motor Cycle</th>\n",
              "      <th>ProductName_Muuve</th>\n",
              "    </tr>\n",
              "  </thead>\n",
              "  <tbody>\n",
              "    <tr>\n",
              "      <th>0</th>\n",
              "      <td>ID_0040R73</td>\n",
              "      <td>2010-05-14</td>\n",
              "      <td>2011-05-13</td>\n",
              "      <td>364</td>\n",
              "      <td>30</td>\n",
              "      <td>2010-05-14</td>\n",
              "      <td>1</td>\n",
              "      <td>Friday</td>\n",
              "      <td>Friday</td>\n",
              "      <td>0.0</td>\n",
              "      <td>...</td>\n",
              "      <td>0</td>\n",
              "      <td>0</td>\n",
              "      <td>1</td>\n",
              "      <td>0</td>\n",
              "      <td>0</td>\n",
              "      <td>0</td>\n",
              "      <td>0</td>\n",
              "      <td>0</td>\n",
              "      <td>0</td>\n",
              "      <td>0</td>\n",
              "    </tr>\n",
              "    <tr>\n",
              "      <th>1</th>\n",
              "      <td>ID_0046BNK</td>\n",
              "      <td>2010-11-29</td>\n",
              "      <td>2011-11-28</td>\n",
              "      <td>364</td>\n",
              "      <td>79</td>\n",
              "      <td>2010-11-29</td>\n",
              "      <td>1</td>\n",
              "      <td>Monday</td>\n",
              "      <td>Monday</td>\n",
              "      <td>1.0</td>\n",
              "      <td>...</td>\n",
              "      <td>0</td>\n",
              "      <td>0</td>\n",
              "      <td>1</td>\n",
              "      <td>0</td>\n",
              "      <td>0</td>\n",
              "      <td>0</td>\n",
              "      <td>0</td>\n",
              "      <td>0</td>\n",
              "      <td>0</td>\n",
              "      <td>0</td>\n",
              "    </tr>\n",
              "    <tr>\n",
              "      <th>2</th>\n",
              "      <td>ID_005QMC3</td>\n",
              "      <td>2010-03-21</td>\n",
              "      <td>2011-03-20</td>\n",
              "      <td>364</td>\n",
              "      <td>43</td>\n",
              "      <td>2010-03-21</td>\n",
              "      <td>1</td>\n",
              "      <td>Sunday</td>\n",
              "      <td>Sunday</td>\n",
              "      <td>0.0</td>\n",
              "      <td>...</td>\n",
              "      <td>0</td>\n",
              "      <td>0</td>\n",
              "      <td>1</td>\n",
              "      <td>0</td>\n",
              "      <td>0</td>\n",
              "      <td>0</td>\n",
              "      <td>0</td>\n",
              "      <td>0</td>\n",
              "      <td>0</td>\n",
              "      <td>0</td>\n",
              "    </tr>\n",
              "    <tr>\n",
              "      <th>3</th>\n",
              "      <td>ID_0079OHW</td>\n",
              "      <td>2010-08-21</td>\n",
              "      <td>2011-08-20</td>\n",
              "      <td>364</td>\n",
              "      <td>2</td>\n",
              "      <td>2010-08-21</td>\n",
              "      <td>1</td>\n",
              "      <td>Saturday</td>\n",
              "      <td>Saturday</td>\n",
              "      <td>0.0</td>\n",
              "      <td>...</td>\n",
              "      <td>0</td>\n",
              "      <td>0</td>\n",
              "      <td>0</td>\n",
              "      <td>0</td>\n",
              "      <td>0</td>\n",
              "      <td>0</td>\n",
              "      <td>1</td>\n",
              "      <td>0</td>\n",
              "      <td>0</td>\n",
              "      <td>0</td>\n",
              "    </tr>\n",
              "    <tr>\n",
              "      <th>4</th>\n",
              "      <td>ID_00BRP63</td>\n",
              "      <td>2010-08-29</td>\n",
              "      <td>2010-12-31</td>\n",
              "      <td>124</td>\n",
              "      <td>20</td>\n",
              "      <td>2010-08-29</td>\n",
              "      <td>3</td>\n",
              "      <td>Sunday</td>\n",
              "      <td>Friday</td>\n",
              "      <td>1.0</td>\n",
              "      <td>...</td>\n",
              "      <td>0</td>\n",
              "      <td>0</td>\n",
              "      <td>0</td>\n",
              "      <td>0</td>\n",
              "      <td>0</td>\n",
              "      <td>0</td>\n",
              "      <td>0</td>\n",
              "      <td>0</td>\n",
              "      <td>0</td>\n",
              "      <td>1</td>\n",
              "    </tr>\n",
              "  </tbody>\n",
              "</table>\n",
              "<p>5 rows × 552 columns</p>\n",
              "</div>"
            ],
            "text/plain": [
              "           ID Policy Start Date Policy End Date  Duration(Days)  Age  \\\n",
              "0  ID_0040R73        2010-05-14      2011-05-13             364   30   \n",
              "1  ID_0046BNK        2010-11-29      2011-11-28             364   79   \n",
              "2  ID_005QMC3        2010-03-21      2011-03-20             364   43   \n",
              "3  ID_0079OHW        2010-08-21      2011-08-20             364    2   \n",
              "4  ID_00BRP63        2010-08-29      2010-12-31             124   20   \n",
              "\n",
              "  First Transaction Date  No_Pol Policy Start Date Actualday  \\\n",
              "0             2010-05-14       1                      Friday   \n",
              "1             2010-11-29       1                      Monday   \n",
              "2             2010-03-21       1                      Sunday   \n",
              "3             2010-08-21       1                    Saturday   \n",
              "4             2010-08-29       3                      Sunday   \n",
              "\n",
              "  Policy End Date Actualday  target  ...  State_Warri-South  ProductName_CVTP  \\\n",
              "0                    Friday     0.0  ...                  0                 0   \n",
              "1                    Monday     1.0  ...                  0                 0   \n",
              "2                    Sunday     0.0  ...                  0                 0   \n",
              "3                  Saturday     0.0  ...                  0                 0   \n",
              "4                    Friday     1.0  ...                  0                 0   \n",
              "\n",
              "   ProductName_Car Classic  ProductName_Car Plus  ProductName_Car Vintage  \\\n",
              "0                        1                     0                        0   \n",
              "1                        1                     0                        0   \n",
              "2                        1                     0                        0   \n",
              "3                        0                     0                        0   \n",
              "4                        0                     0                        0   \n",
              "\n",
              "   ProductName_CarFlex  ProductName_CarSafe  ProductName_Customized Motor  \\\n",
              "0                    0                    0                             0   \n",
              "1                    0                    0                             0   \n",
              "2                    0                    0                             0   \n",
              "3                    0                    1                             0   \n",
              "4                    0                    0                             0   \n",
              "\n",
              "   ProductName_Motor Cycle  ProductName_Muuve  \n",
              "0                        0                  0  \n",
              "1                        0                  0  \n",
              "2                        0                  0  \n",
              "3                        0                  0  \n",
              "4                        0                  1  \n",
              "\n",
              "[5 rows x 552 columns]"
            ]
          },
          "execution_count": 27,
          "metadata": {},
          "output_type": "execute_result"
        }
      ],
      "source": [
        "# Encode categorical features\n",
        "all_data = pd.get_dummies(data = all_data, columns = cat_cols)\n",
        "all_data.head()"
      ]
    },
    {
      "cell_type": "code",
      "execution_count": null,
      "metadata": {},
      "outputs": [
        {
          "data": {
            "text/plain": [
              "array([dtype('uint8'), dtype('<M8[ns]'), dtype('uint8'), dtype('int64'),\n",
              "       dtype('float64'), dtype('O')], dtype=object)"
            ]
          },
          "execution_count": 28,
          "metadata": {},
          "output_type": "execute_result"
        }
      ],
      "source": [
        "# Change columns names ([LightGBM] Do not support special JSON characters in feature name.)\n",
        "import re\n",
        "new_names = {col: re.sub(r'[^A-Za-z0-9_]+', '', col) for col in all_data.columns}\n",
        "new_n_list = list(new_names.values())\n",
        "# [LightGBM] Feature appears more than one time.\n",
        "new_names = {col: f'{new_col}_{i}' if new_col in new_n_list[:i] else new_col for i, (col, new_col) in enumerate(new_names.items())}\n",
        "all_data_renamed = all_data.rename(columns=new_names)\n",
        "np.unique(all_data_renamed.dtypes)"
      ]
    },
    {
      "cell_type": "code",
      "execution_count": null,
      "metadata": {},
      "outputs": [
        {
          "data": {
            "text/html": [
              "<div>\n",
              "<style scoped>\n",
              "    .dataframe tbody tr th:only-of-type {\n",
              "        vertical-align: middle;\n",
              "    }\n",
              "\n",
              "    .dataframe tbody tr th {\n",
              "        vertical-align: top;\n",
              "    }\n",
              "\n",
              "    .dataframe thead th {\n",
              "        text-align: right;\n",
              "    }\n",
              "</style>\n",
              "<table border=\"1\" class=\"dataframe\">\n",
              "  <thead>\n",
              "    <tr style=\"text-align: right;\">\n",
              "      <th></th>\n",
              "      <th>PolicyStartDate</th>\n",
              "      <th>PolicyEndDate</th>\n",
              "      <th>FirstTransactionDate</th>\n",
              "    </tr>\n",
              "  </thead>\n",
              "  <tbody>\n",
              "    <tr>\n",
              "      <th>0</th>\n",
              "      <td>2010-05-14</td>\n",
              "      <td>2011-05-13</td>\n",
              "      <td>2010-05-14</td>\n",
              "    </tr>\n",
              "    <tr>\n",
              "      <th>1</th>\n",
              "      <td>2010-11-29</td>\n",
              "      <td>2011-11-28</td>\n",
              "      <td>2010-11-29</td>\n",
              "    </tr>\n",
              "    <tr>\n",
              "      <th>2</th>\n",
              "      <td>2010-03-21</td>\n",
              "      <td>2011-03-20</td>\n",
              "      <td>2010-03-21</td>\n",
              "    </tr>\n",
              "    <tr>\n",
              "      <th>3</th>\n",
              "      <td>2010-08-21</td>\n",
              "      <td>2011-08-20</td>\n",
              "      <td>2010-08-21</td>\n",
              "    </tr>\n",
              "    <tr>\n",
              "      <th>4</th>\n",
              "      <td>2010-08-29</td>\n",
              "      <td>2010-12-31</td>\n",
              "      <td>2010-08-29</td>\n",
              "    </tr>\n",
              "    <tr>\n",
              "      <th>...</th>\n",
              "      <td>...</td>\n",
              "      <td>...</td>\n",
              "      <td>...</td>\n",
              "    </tr>\n",
              "    <tr>\n",
              "      <th>13276</th>\n",
              "      <td>2010-12-05</td>\n",
              "      <td>2011-12-04</td>\n",
              "      <td>2010-12-05</td>\n",
              "    </tr>\n",
              "    <tr>\n",
              "      <th>13277</th>\n",
              "      <td>2010-01-14</td>\n",
              "      <td>2011-01-13</td>\n",
              "      <td>2010-01-14</td>\n",
              "    </tr>\n",
              "    <tr>\n",
              "      <th>13278</th>\n",
              "      <td>2010-07-26</td>\n",
              "      <td>2011-07-25</td>\n",
              "      <td>2010-07-26</td>\n",
              "    </tr>\n",
              "    <tr>\n",
              "      <th>13279</th>\n",
              "      <td>2010-02-16</td>\n",
              "      <td>2011-02-15</td>\n",
              "      <td>2010-02-16</td>\n",
              "    </tr>\n",
              "    <tr>\n",
              "      <th>13280</th>\n",
              "      <td>2010-03-18</td>\n",
              "      <td>2011-03-17</td>\n",
              "      <td>2010-03-18</td>\n",
              "    </tr>\n",
              "  </tbody>\n",
              "</table>\n",
              "<p>13281 rows × 3 columns</p>\n",
              "</div>"
            ],
            "text/plain": [
              "      PolicyStartDate PolicyEndDate FirstTransactionDate\n",
              "0          2010-05-14    2011-05-13           2010-05-14\n",
              "1          2010-11-29    2011-11-28           2010-11-29\n",
              "2          2010-03-21    2011-03-20           2010-03-21\n",
              "3          2010-08-21    2011-08-20           2010-08-21\n",
              "4          2010-08-29    2010-12-31           2010-08-29\n",
              "...               ...           ...                  ...\n",
              "13276      2010-12-05    2011-12-04           2010-12-05\n",
              "13277      2010-01-14    2011-01-13           2010-01-14\n",
              "13278      2010-07-26    2011-07-25           2010-07-26\n",
              "13279      2010-02-16    2011-02-15           2010-02-16\n",
              "13280      2010-03-18    2011-03-17           2010-03-18\n",
              "\n",
              "[13281 rows x 3 columns]"
            ]
          },
          "execution_count": 29,
          "metadata": {},
          "output_type": "execute_result"
        }
      ],
      "source": [
        "# View the columns with 'datetime' data types\n",
        "columns_to_drop = all_data_renamed.select_dtypes(include=['datetime64'])\n",
        "columns_to_drop"
      ]
    },
    {
      "cell_type": "code",
      "execution_count": null,
      "metadata": {
        "colab": {
          "base_uri": "https://localhost:8080/"
        },
        "id": "BibprFWLdRAy",
        "outputId": "f48a22bd-dee0-4be3-e103-ffc34bb43b62"
      },
      "outputs": [
        {
          "data": {
            "text/plain": [
              "((12079, 549), (1202, 549))"
            ]
          },
          "execution_count": 30,
          "metadata": {},
          "output_type": "execute_result"
        }
      ],
      "source": [
        "# Exclude the data columns due to their data types\n",
        "# Separate train and test data from the combined dataframe\n",
        "train_df = all_data_renamed[:ntrain].drop(columns=columns_to_drop)\n",
        "test_df = all_data_renamed[ntrain:].drop(columns=columns_to_drop)\n",
        "\n",
        "# Check the shapes of the split dataset\n",
        "train_df.shape, test_df.shape"
      ]
    },
    {
      "cell_type": "markdown",
      "metadata": {
        "id": "Rv9axjwXh2Ij"
      },
      "source": [
        "### Training and making predictions\n",
        "Tips:\n",
        "- Is lgbm the best model for this challenge?\n",
        "- Parameter tuning\n",
        " - Grid search, random search, perhaps bayesian search works better...\n",
        "\n"
      ]
    },
    {
      "cell_type": "code",
      "execution_count": null,
      "metadata": {
        "colab": {
          "base_uri": "https://localhost:8080/"
        },
        "id": "w0EL1Fk222y-",
        "outputId": "7c5142f0-8ed0-4a67-a5da-e930abe0b8f7"
      },
      "outputs": [
        {
          "ename": "ValueError",
          "evalue": "DataFrame.dtypes for data must be int, float or bool.\nDid not expect the data types in the following fields: PolicyEndDateActualday, PolicyStartDateActualday",
          "output_type": "error",
          "traceback": [
            "\u001b[1;31m---------------------------------------------------------------------------\u001b[0m",
            "\u001b[1;31mValueError\u001b[0m                                Traceback (most recent call last)",
            "Cell \u001b[1;32mIn [31], line 12\u001b[0m\n\u001b[0;32m     10\u001b[0m \u001b[39m# Train model\u001b[39;00m\n\u001b[0;32m     11\u001b[0m model \u001b[39m=\u001b[39m LGBMClassifier()\n\u001b[1;32m---> 12\u001b[0m model\u001b[39m.\u001b[39;49mfit(X_train, y_train)\n\u001b[0;32m     14\u001b[0m \u001b[39m# Make predictions\u001b[39;00m\n\u001b[0;32m     15\u001b[0m y_pred \u001b[39m=\u001b[39m model\u001b[39m.\u001b[39mpredict(X_test)\n",
            "File \u001b[1;32mc:\\Users\\Admin\\AppData\\Local\\Programs\\Python\\Python310\\lib\\site-packages\\lightgbm\\sklearn.py:967\u001b[0m, in \u001b[0;36mLGBMClassifier.fit\u001b[1;34m(self, X, y, sample_weight, init_score, eval_set, eval_names, eval_sample_weight, eval_class_weight, eval_init_score, eval_metric, early_stopping_rounds, verbose, feature_name, categorical_feature, callbacks, init_model)\u001b[0m\n\u001b[0;32m    964\u001b[0m         \u001b[39melse\u001b[39;00m:\n\u001b[0;32m    965\u001b[0m             valid_sets[i] \u001b[39m=\u001b[39m (valid_x, \u001b[39mself\u001b[39m\u001b[39m.\u001b[39m_le\u001b[39m.\u001b[39mtransform(valid_y))\n\u001b[1;32m--> 967\u001b[0m \u001b[39msuper\u001b[39;49m()\u001b[39m.\u001b[39;49mfit(X, _y, sample_weight\u001b[39m=\u001b[39;49msample_weight, init_score\u001b[39m=\u001b[39;49minit_score, eval_set\u001b[39m=\u001b[39;49mvalid_sets,\n\u001b[0;32m    968\u001b[0m             eval_names\u001b[39m=\u001b[39;49meval_names, eval_sample_weight\u001b[39m=\u001b[39;49meval_sample_weight,\n\u001b[0;32m    969\u001b[0m             eval_class_weight\u001b[39m=\u001b[39;49meval_class_weight, eval_init_score\u001b[39m=\u001b[39;49meval_init_score,\n\u001b[0;32m    970\u001b[0m             eval_metric\u001b[39m=\u001b[39;49meval_metric, early_stopping_rounds\u001b[39m=\u001b[39;49mearly_stopping_rounds,\n\u001b[0;32m    971\u001b[0m             verbose\u001b[39m=\u001b[39;49mverbose, feature_name\u001b[39m=\u001b[39;49mfeature_name, categorical_feature\u001b[39m=\u001b[39;49mcategorical_feature,\n\u001b[0;32m    972\u001b[0m             callbacks\u001b[39m=\u001b[39;49mcallbacks, init_model\u001b[39m=\u001b[39;49minit_model)\n\u001b[0;32m    973\u001b[0m \u001b[39mreturn\u001b[39;00m \u001b[39mself\u001b[39m\n",
            "File \u001b[1;32mc:\\Users\\Admin\\AppData\\Local\\Programs\\Python\\Python310\\lib\\site-packages\\lightgbm\\sklearn.py:748\u001b[0m, in \u001b[0;36mLGBMModel.fit\u001b[1;34m(self, X, y, sample_weight, init_score, group, eval_set, eval_names, eval_sample_weight, eval_class_weight, eval_init_score, eval_group, eval_metric, early_stopping_rounds, verbose, feature_name, categorical_feature, callbacks, init_model)\u001b[0m\n\u001b[0;32m    745\u001b[0m evals_result \u001b[39m=\u001b[39m {}\n\u001b[0;32m    746\u001b[0m callbacks\u001b[39m.\u001b[39mappend(record_evaluation(evals_result))\n\u001b[1;32m--> 748\u001b[0m \u001b[39mself\u001b[39m\u001b[39m.\u001b[39m_Booster \u001b[39m=\u001b[39m train(\n\u001b[0;32m    749\u001b[0m     params\u001b[39m=\u001b[39;49mparams,\n\u001b[0;32m    750\u001b[0m     train_set\u001b[39m=\u001b[39;49mtrain_set,\n\u001b[0;32m    751\u001b[0m     num_boost_round\u001b[39m=\u001b[39;49m\u001b[39mself\u001b[39;49m\u001b[39m.\u001b[39;49mn_estimators,\n\u001b[0;32m    752\u001b[0m     valid_sets\u001b[39m=\u001b[39;49mvalid_sets,\n\u001b[0;32m    753\u001b[0m     valid_names\u001b[39m=\u001b[39;49meval_names,\n\u001b[0;32m    754\u001b[0m     fobj\u001b[39m=\u001b[39;49m\u001b[39mself\u001b[39;49m\u001b[39m.\u001b[39;49m_fobj,\n\u001b[0;32m    755\u001b[0m     feval\u001b[39m=\u001b[39;49meval_metrics_callable,\n\u001b[0;32m    756\u001b[0m     init_model\u001b[39m=\u001b[39;49minit_model,\n\u001b[0;32m    757\u001b[0m     feature_name\u001b[39m=\u001b[39;49mfeature_name,\n\u001b[0;32m    758\u001b[0m     callbacks\u001b[39m=\u001b[39;49mcallbacks\n\u001b[0;32m    759\u001b[0m )\n\u001b[0;32m    761\u001b[0m \u001b[39mif\u001b[39;00m evals_result:\n\u001b[0;32m    762\u001b[0m     \u001b[39mself\u001b[39m\u001b[39m.\u001b[39m_evals_result \u001b[39m=\u001b[39m evals_result\n",
            "File \u001b[1;32mc:\\Users\\Admin\\AppData\\Local\\Programs\\Python\\Python310\\lib\\site-packages\\lightgbm\\engine.py:271\u001b[0m, in \u001b[0;36mtrain\u001b[1;34m(params, train_set, num_boost_round, valid_sets, valid_names, fobj, feval, init_model, feature_name, categorical_feature, early_stopping_rounds, evals_result, verbose_eval, learning_rates, keep_training_booster, callbacks)\u001b[0m\n\u001b[0;32m    269\u001b[0m \u001b[39m# construct booster\u001b[39;00m\n\u001b[0;32m    270\u001b[0m \u001b[39mtry\u001b[39;00m:\n\u001b[1;32m--> 271\u001b[0m     booster \u001b[39m=\u001b[39m Booster(params\u001b[39m=\u001b[39;49mparams, train_set\u001b[39m=\u001b[39;49mtrain_set)\n\u001b[0;32m    272\u001b[0m     \u001b[39mif\u001b[39;00m is_valid_contain_train:\n\u001b[0;32m    273\u001b[0m         booster\u001b[39m.\u001b[39mset_train_data_name(train_data_name)\n",
            "File \u001b[1;32mc:\\Users\\Admin\\AppData\\Local\\Programs\\Python\\Python310\\lib\\site-packages\\lightgbm\\basic.py:2605\u001b[0m, in \u001b[0;36mBooster.__init__\u001b[1;34m(self, params, train_set, model_file, model_str, silent)\u001b[0m\n\u001b[0;32m   2598\u001b[0m     \u001b[39mself\u001b[39m\u001b[39m.\u001b[39mset_network(\n\u001b[0;32m   2599\u001b[0m         machines\u001b[39m=\u001b[39mmachines,\n\u001b[0;32m   2600\u001b[0m         local_listen_port\u001b[39m=\u001b[39mparams[\u001b[39m\"\u001b[39m\u001b[39mlocal_listen_port\u001b[39m\u001b[39m\"\u001b[39m],\n\u001b[0;32m   2601\u001b[0m         listen_time_out\u001b[39m=\u001b[39mparams\u001b[39m.\u001b[39mget(\u001b[39m\"\u001b[39m\u001b[39mtime_out\u001b[39m\u001b[39m\"\u001b[39m, \u001b[39m120\u001b[39m),\n\u001b[0;32m   2602\u001b[0m         num_machines\u001b[39m=\u001b[39mparams[\u001b[39m\"\u001b[39m\u001b[39mnum_machines\u001b[39m\u001b[39m\"\u001b[39m]\n\u001b[0;32m   2603\u001b[0m     )\n\u001b[0;32m   2604\u001b[0m \u001b[39m# construct booster object\u001b[39;00m\n\u001b[1;32m-> 2605\u001b[0m train_set\u001b[39m.\u001b[39;49mconstruct()\n\u001b[0;32m   2606\u001b[0m \u001b[39m# copy the parameters from train_set\u001b[39;00m\n\u001b[0;32m   2607\u001b[0m params\u001b[39m.\u001b[39mupdate(train_set\u001b[39m.\u001b[39mget_params())\n",
            "File \u001b[1;32mc:\\Users\\Admin\\AppData\\Local\\Programs\\Python\\Python310\\lib\\site-packages\\lightgbm\\basic.py:1815\u001b[0m, in \u001b[0;36mDataset.construct\u001b[1;34m(self)\u001b[0m\n\u001b[0;32m   1812\u001b[0m             \u001b[39mself\u001b[39m\u001b[39m.\u001b[39m_set_init_score_by_predictor(\u001b[39mself\u001b[39m\u001b[39m.\u001b[39m_predictor, \u001b[39mself\u001b[39m\u001b[39m.\u001b[39mdata, used_indices)\n\u001b[0;32m   1813\u001b[0m \u001b[39melse\u001b[39;00m:\n\u001b[0;32m   1814\u001b[0m     \u001b[39m# create train\u001b[39;00m\n\u001b[1;32m-> 1815\u001b[0m     \u001b[39mself\u001b[39;49m\u001b[39m.\u001b[39;49m_lazy_init(\u001b[39mself\u001b[39;49m\u001b[39m.\u001b[39;49mdata, label\u001b[39m=\u001b[39;49m\u001b[39mself\u001b[39;49m\u001b[39m.\u001b[39;49mlabel,\n\u001b[0;32m   1816\u001b[0m                     weight\u001b[39m=\u001b[39;49m\u001b[39mself\u001b[39;49m\u001b[39m.\u001b[39;49mweight, group\u001b[39m=\u001b[39;49m\u001b[39mself\u001b[39;49m\u001b[39m.\u001b[39;49mgroup,\n\u001b[0;32m   1817\u001b[0m                     init_score\u001b[39m=\u001b[39;49m\u001b[39mself\u001b[39;49m\u001b[39m.\u001b[39;49minit_score, predictor\u001b[39m=\u001b[39;49m\u001b[39mself\u001b[39;49m\u001b[39m.\u001b[39;49m_predictor,\n\u001b[0;32m   1818\u001b[0m                     silent\u001b[39m=\u001b[39;49m\u001b[39mself\u001b[39;49m\u001b[39m.\u001b[39;49msilent, feature_name\u001b[39m=\u001b[39;49m\u001b[39mself\u001b[39;49m\u001b[39m.\u001b[39;49mfeature_name,\n\u001b[0;32m   1819\u001b[0m                     categorical_feature\u001b[39m=\u001b[39;49m\u001b[39mself\u001b[39;49m\u001b[39m.\u001b[39;49mcategorical_feature, params\u001b[39m=\u001b[39;49m\u001b[39mself\u001b[39;49m\u001b[39m.\u001b[39;49mparams)\n\u001b[0;32m   1820\u001b[0m \u001b[39mif\u001b[39;00m \u001b[39mself\u001b[39m\u001b[39m.\u001b[39mfree_raw_data:\n\u001b[0;32m   1821\u001b[0m     \u001b[39mself\u001b[39m\u001b[39m.\u001b[39mdata \u001b[39m=\u001b[39m \u001b[39mNone\u001b[39;00m\n",
            "File \u001b[1;32mc:\\Users\\Admin\\AppData\\Local\\Programs\\Python\\Python310\\lib\\site-packages\\lightgbm\\basic.py:1474\u001b[0m, in \u001b[0;36mDataset._lazy_init\u001b[1;34m(self, data, label, reference, weight, group, init_score, predictor, silent, feature_name, categorical_feature, params)\u001b[0m\n\u001b[0;32m   1472\u001b[0m     \u001b[39mself\u001b[39m\u001b[39m.\u001b[39mpandas_categorical \u001b[39m=\u001b[39m reference\u001b[39m.\u001b[39mpandas_categorical\n\u001b[0;32m   1473\u001b[0m     categorical_feature \u001b[39m=\u001b[39m reference\u001b[39m.\u001b[39mcategorical_feature\n\u001b[1;32m-> 1474\u001b[0m data, feature_name, categorical_feature, \u001b[39mself\u001b[39m\u001b[39m.\u001b[39mpandas_categorical \u001b[39m=\u001b[39m _data_from_pandas(data,\n\u001b[0;32m   1475\u001b[0m                                                                                      feature_name,\n\u001b[0;32m   1476\u001b[0m                                                                                      categorical_feature,\n\u001b[0;32m   1477\u001b[0m                                                                                      \u001b[39mself\u001b[39;49m\u001b[39m.\u001b[39;49mpandas_categorical)\n\u001b[0;32m   1478\u001b[0m label \u001b[39m=\u001b[39m _label_from_pandas(label)\n\u001b[0;32m   1480\u001b[0m \u001b[39m# process for args\u001b[39;00m\n",
            "File \u001b[1;32mc:\\Users\\Admin\\AppData\\Local\\Programs\\Python\\Python310\\lib\\site-packages\\lightgbm\\basic.py:594\u001b[0m, in \u001b[0;36m_data_from_pandas\u001b[1;34m(data, feature_name, categorical_feature, pandas_categorical)\u001b[0m\n\u001b[0;32m    592\u001b[0m \u001b[39mif\u001b[39;00m bad_indices:\n\u001b[0;32m    593\u001b[0m     bad_index_cols_str \u001b[39m=\u001b[39m \u001b[39m'\u001b[39m\u001b[39m, \u001b[39m\u001b[39m'\u001b[39m\u001b[39m.\u001b[39mjoin(data\u001b[39m.\u001b[39mcolumns[bad_indices])\n\u001b[1;32m--> 594\u001b[0m     \u001b[39mraise\u001b[39;00m \u001b[39mValueError\u001b[39;00m(\u001b[39m\"\u001b[39m\u001b[39mDataFrame.dtypes for data must be int, float or bool.\u001b[39m\u001b[39m\\n\u001b[39;00m\u001b[39m\"\u001b[39m\n\u001b[0;32m    595\u001b[0m                      \u001b[39m\"\u001b[39m\u001b[39mDid not expect the data types in the following fields: \u001b[39m\u001b[39m\"\u001b[39m\n\u001b[0;32m    596\u001b[0m                      \u001b[39mf\u001b[39m\u001b[39m\"\u001b[39m\u001b[39m{\u001b[39;00mbad_index_cols_str\u001b[39m}\u001b[39;00m\u001b[39m\"\u001b[39m)\n\u001b[0;32m    597\u001b[0m data \u001b[39m=\u001b[39m data\u001b[39m.\u001b[39mvalues\n\u001b[0;32m    598\u001b[0m \u001b[39mif\u001b[39;00m data\u001b[39m.\u001b[39mdtype \u001b[39m!=\u001b[39m np\u001b[39m.\u001b[39mfloat32 \u001b[39mand\u001b[39;00m data\u001b[39m.\u001b[39mdtype \u001b[39m!=\u001b[39m np\u001b[39m.\u001b[39mfloat64:\n",
            "\u001b[1;31mValueError\u001b[0m: DataFrame.dtypes for data must be int, float or bool.\nDid not expect the data types in the following fields: PolicyEndDateActualday, PolicyStartDateActualday"
          ]
        }
      ],
      "source": [
        "# Select main columns to be used in training\n",
        "main_cols = train_df.columns.difference(['ID', 'target'])\n",
        "\n",
        "X = train_df[main_cols]\n",
        "y = train_df.target\n",
        "\n",
        "# Split data into train and test sets\n",
        "X_train, X_test, y_train, y_test = train_test_split(X,y,test_size=0.3, random_state=42)\n",
        "\n",
        "# Train model\n",
        "model = LGBMClassifier()\n",
        "model.fit(X_train, y_train)\n",
        "\n",
        "# Make predictions\n",
        "y_pred = model.predict(X_test)\n",
        "\n",
        "# Check the f1 score of the model\n",
        "print(f'F1 score on the X_test is: {f1_score(y_test, y_pred)}')"
      ]
    },
    {
      "cell_type": "markdown",
      "metadata": {
        "id": "WZ6h0Ho3qOCV"
      },
      "source": [
        "#### [More on F1 Score](https://en.wikipedia.org/wiki/F-score)"
      ]
    },
    {
      "cell_type": "markdown",
      "metadata": {
        "id": "k_LHEtrph7Kk"
      },
      "source": [
        "### Making predictions of the test set and creating a submission file"
      ]
    },
    {
      "cell_type": "code",
      "execution_count": null,
      "metadata": {
        "colab": {
          "base_uri": "https://localhost:8080/",
          "height": 265
        },
        "id": "OP8EX6NZfSCP",
        "outputId": "cfdc1bfb-8f7a-40b3-9a6a-6613b7b3193b"
      },
      "outputs": [
        {
          "data": {
            "image/png": "[encoded data removed]",
            "text/plain": [
              "<Figure size 640x480 with 1 Axes>"
            ]
          },
          "metadata": {},
          "output_type": "display_data"
        }
      ],
      "source": [
        "# Make prediction on the test set\n",
        "test_df = test_df[main_cols]\n",
        "predictions = model.predict(test_df)\n",
        "\n",
        "# Create a submission file\n",
        "sub_file = ss.copy()\n",
        "sub_file.predictions = predictions\n",
        "\n",
        "# Check the distribution of your predictions\n",
        "sns.countplot(sub_file.predictions);"
      ]
    },
    {
      "cell_type": "code",
      "execution_count": null,
      "metadata": {
        "id": "sm_jTS4022y-"
      },
      "outputs": [],
      "source": [
        "# Create a csv file and upload to zindi \n",
        "sub_file.to_csv('Baseline.csv', index = False)"
      ]
    },
    {
      "cell_type": "markdown",
      "metadata": {
        "id": "ttQqWBi722zE"
      },
      "source": [
        "###More Tips\n",
        "- Thorough EDA and domain knowledge sourcing\n",
        "- Re-group Categorical features \n",
        "- More Feature Engineering \n",
        "- Dataset balancing - oversampling, undersampling, SMOTE...\n",
        "- Ensembling of models \n",
        "- Cross-validation: Group folds, Stratified..."
      ]
    },
    {
      "cell_type": "markdown",
      "metadata": {
        "id": "uXftXbo622zF"
      },
      "source": [
        "# ******************* GOOD LUCK!!! ***************************"
      ]
    }
  ],
  "metadata": {
    "colab": {
      "collapsed_sections": [],
      "name": "AXA-Python_StarterNotebook.ipynb",
      "provenance": []
    },
    "kernelspec": {
      "display_name": "Python 3.10.7 64-bit",
      "language": "python",
      "name": "python3"
    },
    "language_info": {
      "codemirror_mode": {
        "name": "ipython",
        "version": 3
      },
      "file_extension": ".py",
      "mimetype": "text/x-python",
      "name": "python",
      "nbconvert_exporter": "python",
      "pygments_lexer": "ipython3",
      "version": "3.10.7"
    },
    "vscode": {
      "interpreter": {
        "hash": "a42ccb73e7d9bfdf27e036f1d2b8b681e55fc0743cc5586bc2474d4a60f4b886"
      }
    }
  },
  "nbformat": 4,
  "nbformat_minor": 0
}
